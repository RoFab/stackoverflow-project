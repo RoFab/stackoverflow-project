{
 "cells": [
  {
   "cell_type": "code",
   "execution_count": 58,
   "metadata": {},
   "outputs": [],
   "source": [
    "import numpy as np\n",
    "import pandas as pd\n",
    "import seaborn as sns\n",
    "import matplotlib.pyplot as plt\n",
    "from collections import defaultdict\n",
    "%matplotlib inline"
   ]
  },
  {
   "cell_type": "markdown",
   "metadata": {},
   "source": [
    "### Business Understanding"
   ]
  },
  {
   "cell_type": "markdown",
   "metadata": {},
   "source": [
    "The Dataset contains survey data from stack overflow. The survey was done in 2017, containing various information such as salary, job satisfaction, hiring aspects, programming languages etc. \n",
    "The Dataset can be used to answer developer related questions. The questions I want to answer are all related to hiring aspects when trying to get a job as developer."
   ]
  },
  {
   "cell_type": "markdown",
   "metadata": {},
   "source": [
    "### Data Understanding"
   ]
  },
  {
   "cell_type": "code",
   "execution_count": 59,
   "metadata": {},
   "outputs": [
    {
     "data": {
      "text/html": [
       "<div>\n",
       "<style scoped>\n",
       "    .dataframe tbody tr th:only-of-type {\n",
       "        vertical-align: middle;\n",
       "    }\n",
       "\n",
       "    .dataframe tbody tr th {\n",
       "        vertical-align: top;\n",
       "    }\n",
       "\n",
       "    .dataframe thead th {\n",
       "        text-align: right;\n",
       "    }\n",
       "</style>\n",
       "<table border=\"1\" class=\"dataframe\">\n",
       "  <thead>\n",
       "    <tr style=\"text-align: right;\">\n",
       "      <th></th>\n",
       "      <th>Respondent</th>\n",
       "      <th>Professional</th>\n",
       "      <th>ProgramHobby</th>\n",
       "      <th>Country</th>\n",
       "      <th>University</th>\n",
       "      <th>EmploymentStatus</th>\n",
       "      <th>FormalEducation</th>\n",
       "      <th>MajorUndergrad</th>\n",
       "      <th>HomeRemote</th>\n",
       "      <th>CompanySize</th>\n",
       "      <th>...</th>\n",
       "      <th>StackOverflowMakeMoney</th>\n",
       "      <th>Gender</th>\n",
       "      <th>HighestEducationParents</th>\n",
       "      <th>Race</th>\n",
       "      <th>SurveyLong</th>\n",
       "      <th>QuestionsInteresting</th>\n",
       "      <th>QuestionsConfusing</th>\n",
       "      <th>InterestedAnswers</th>\n",
       "      <th>Salary</th>\n",
       "      <th>ExpectedSalary</th>\n",
       "    </tr>\n",
       "  </thead>\n",
       "  <tbody>\n",
       "    <tr>\n",
       "      <th>0</th>\n",
       "      <td>1</td>\n",
       "      <td>Student</td>\n",
       "      <td>Yes, both</td>\n",
       "      <td>United States</td>\n",
       "      <td>No</td>\n",
       "      <td>Not employed, and not looking for work</td>\n",
       "      <td>Secondary school</td>\n",
       "      <td>NaN</td>\n",
       "      <td>NaN</td>\n",
       "      <td>NaN</td>\n",
       "      <td>...</td>\n",
       "      <td>Strongly disagree</td>\n",
       "      <td>Male</td>\n",
       "      <td>High school</td>\n",
       "      <td>White or of European descent</td>\n",
       "      <td>Strongly disagree</td>\n",
       "      <td>Strongly agree</td>\n",
       "      <td>Disagree</td>\n",
       "      <td>Strongly agree</td>\n",
       "      <td>NaN</td>\n",
       "      <td>NaN</td>\n",
       "    </tr>\n",
       "    <tr>\n",
       "      <th>1</th>\n",
       "      <td>2</td>\n",
       "      <td>Student</td>\n",
       "      <td>Yes, both</td>\n",
       "      <td>United Kingdom</td>\n",
       "      <td>Yes, full-time</td>\n",
       "      <td>Employed part-time</td>\n",
       "      <td>Some college/university study without earning ...</td>\n",
       "      <td>Computer science or software engineering</td>\n",
       "      <td>More than half, but not all, the time</td>\n",
       "      <td>20 to 99 employees</td>\n",
       "      <td>...</td>\n",
       "      <td>Strongly disagree</td>\n",
       "      <td>Male</td>\n",
       "      <td>A master's degree</td>\n",
       "      <td>White or of European descent</td>\n",
       "      <td>Somewhat agree</td>\n",
       "      <td>Somewhat agree</td>\n",
       "      <td>Disagree</td>\n",
       "      <td>Strongly agree</td>\n",
       "      <td>NaN</td>\n",
       "      <td>37500.0</td>\n",
       "    </tr>\n",
       "    <tr>\n",
       "      <th>2</th>\n",
       "      <td>3</td>\n",
       "      <td>Professional developer</td>\n",
       "      <td>Yes, both</td>\n",
       "      <td>United Kingdom</td>\n",
       "      <td>No</td>\n",
       "      <td>Employed full-time</td>\n",
       "      <td>Bachelor's degree</td>\n",
       "      <td>Computer science or software engineering</td>\n",
       "      <td>Less than half the time, but at least one day ...</td>\n",
       "      <td>10,000 or more employees</td>\n",
       "      <td>...</td>\n",
       "      <td>Disagree</td>\n",
       "      <td>Male</td>\n",
       "      <td>A professional degree</td>\n",
       "      <td>White or of European descent</td>\n",
       "      <td>Somewhat agree</td>\n",
       "      <td>Agree</td>\n",
       "      <td>Disagree</td>\n",
       "      <td>Agree</td>\n",
       "      <td>113750.0</td>\n",
       "      <td>NaN</td>\n",
       "    </tr>\n",
       "    <tr>\n",
       "      <th>3</th>\n",
       "      <td>4</td>\n",
       "      <td>Professional non-developer who sometimes write...</td>\n",
       "      <td>Yes, both</td>\n",
       "      <td>United States</td>\n",
       "      <td>No</td>\n",
       "      <td>Employed full-time</td>\n",
       "      <td>Doctoral degree</td>\n",
       "      <td>A non-computer-focused engineering discipline</td>\n",
       "      <td>Less than half the time, but at least one day ...</td>\n",
       "      <td>10,000 or more employees</td>\n",
       "      <td>...</td>\n",
       "      <td>Disagree</td>\n",
       "      <td>Male</td>\n",
       "      <td>A doctoral degree</td>\n",
       "      <td>White or of European descent</td>\n",
       "      <td>Agree</td>\n",
       "      <td>Agree</td>\n",
       "      <td>Somewhat agree</td>\n",
       "      <td>Strongly agree</td>\n",
       "      <td>NaN</td>\n",
       "      <td>NaN</td>\n",
       "    </tr>\n",
       "    <tr>\n",
       "      <th>4</th>\n",
       "      <td>5</td>\n",
       "      <td>Professional developer</td>\n",
       "      <td>Yes, I program as a hobby</td>\n",
       "      <td>Switzerland</td>\n",
       "      <td>No</td>\n",
       "      <td>Employed full-time</td>\n",
       "      <td>Master's degree</td>\n",
       "      <td>Computer science or software engineering</td>\n",
       "      <td>Never</td>\n",
       "      <td>10 to 19 employees</td>\n",
       "      <td>...</td>\n",
       "      <td>NaN</td>\n",
       "      <td>NaN</td>\n",
       "      <td>NaN</td>\n",
       "      <td>NaN</td>\n",
       "      <td>NaN</td>\n",
       "      <td>NaN</td>\n",
       "      <td>NaN</td>\n",
       "      <td>NaN</td>\n",
       "      <td>NaN</td>\n",
       "      <td>NaN</td>\n",
       "    </tr>\n",
       "  </tbody>\n",
       "</table>\n",
       "<p>5 rows × 154 columns</p>\n",
       "</div>"
      ],
      "text/plain": [
       "   Respondent                                       Professional  \\\n",
       "0           1                                            Student   \n",
       "1           2                                            Student   \n",
       "2           3                             Professional developer   \n",
       "3           4  Professional non-developer who sometimes write...   \n",
       "4           5                             Professional developer   \n",
       "\n",
       "                ProgramHobby         Country      University  \\\n",
       "0                  Yes, both   United States              No   \n",
       "1                  Yes, both  United Kingdom  Yes, full-time   \n",
       "2                  Yes, both  United Kingdom              No   \n",
       "3                  Yes, both   United States              No   \n",
       "4  Yes, I program as a hobby     Switzerland              No   \n",
       "\n",
       "                         EmploymentStatus  \\\n",
       "0  Not employed, and not looking for work   \n",
       "1                      Employed part-time   \n",
       "2                      Employed full-time   \n",
       "3                      Employed full-time   \n",
       "4                      Employed full-time   \n",
       "\n",
       "                                     FormalEducation  \\\n",
       "0                                   Secondary school   \n",
       "1  Some college/university study without earning ...   \n",
       "2                                  Bachelor's degree   \n",
       "3                                    Doctoral degree   \n",
       "4                                    Master's degree   \n",
       "\n",
       "                                  MajorUndergrad  \\\n",
       "0                                            NaN   \n",
       "1       Computer science or software engineering   \n",
       "2       Computer science or software engineering   \n",
       "3  A non-computer-focused engineering discipline   \n",
       "4       Computer science or software engineering   \n",
       "\n",
       "                                          HomeRemote  \\\n",
       "0                                                NaN   \n",
       "1              More than half, but not all, the time   \n",
       "2  Less than half the time, but at least one day ...   \n",
       "3  Less than half the time, but at least one day ...   \n",
       "4                                              Never   \n",
       "\n",
       "                CompanySize       ...       StackOverflowMakeMoney Gender  \\\n",
       "0                       NaN       ...            Strongly disagree   Male   \n",
       "1        20 to 99 employees       ...            Strongly disagree   Male   \n",
       "2  10,000 or more employees       ...                     Disagree   Male   \n",
       "3  10,000 or more employees       ...                     Disagree   Male   \n",
       "4        10 to 19 employees       ...                          NaN    NaN   \n",
       "\n",
       "  HighestEducationParents                          Race         SurveyLong  \\\n",
       "0             High school  White or of European descent  Strongly disagree   \n",
       "1       A master's degree  White or of European descent     Somewhat agree   \n",
       "2   A professional degree  White or of European descent     Somewhat agree   \n",
       "3       A doctoral degree  White or of European descent              Agree   \n",
       "4                     NaN                           NaN                NaN   \n",
       "\n",
       "  QuestionsInteresting QuestionsConfusing InterestedAnswers    Salary  \\\n",
       "0       Strongly agree           Disagree    Strongly agree       NaN   \n",
       "1       Somewhat agree           Disagree    Strongly agree       NaN   \n",
       "2                Agree           Disagree             Agree  113750.0   \n",
       "3                Agree     Somewhat agree    Strongly agree       NaN   \n",
       "4                  NaN                NaN               NaN       NaN   \n",
       "\n",
       "   ExpectedSalary  \n",
       "0             NaN  \n",
       "1         37500.0  \n",
       "2             NaN  \n",
       "3             NaN  \n",
       "4             NaN  \n",
       "\n",
       "[5 rows x 154 columns]"
      ]
     },
     "execution_count": 59,
     "metadata": {},
     "output_type": "execute_result"
    }
   ],
   "source": [
    "# read in dataset\n",
    "df = pd.read_csv('./survey_results_public.csv')\n",
    "df.head()"
   ]
  },
  {
   "cell_type": "code",
   "execution_count": 60,
   "metadata": {},
   "outputs": [
    {
     "data": {
      "text/plain": [
       "(19102, 154)"
      ]
     },
     "execution_count": 60,
     "metadata": {},
     "output_type": "execute_result"
    }
   ],
   "source": [
    "#checking shape of dataset\n",
    "df.shape"
   ]
  },
  {
   "cell_type": "code",
   "execution_count": 132,
   "metadata": {},
   "outputs": [
    {
     "data": {
      "text/html": [
       "<div>\n",
       "<style scoped>\n",
       "    .dataframe tbody tr th:only-of-type {\n",
       "        vertical-align: middle;\n",
       "    }\n",
       "\n",
       "    .dataframe tbody tr th {\n",
       "        vertical-align: top;\n",
       "    }\n",
       "\n",
       "    .dataframe thead th {\n",
       "        text-align: right;\n",
       "    }\n",
       "</style>\n",
       "<table border=\"1\" class=\"dataframe\">\n",
       "  <thead>\n",
       "    <tr style=\"text-align: right;\">\n",
       "      <th></th>\n",
       "      <th>Respondent</th>\n",
       "      <th>CareerSatisfaction</th>\n",
       "      <th>JobSatisfaction</th>\n",
       "      <th>HoursPerWeek</th>\n",
       "      <th>StackOverflowSatisfaction</th>\n",
       "      <th>Salary</th>\n",
       "      <th>ExpectedSalary</th>\n",
       "    </tr>\n",
       "  </thead>\n",
       "  <tbody>\n",
       "    <tr>\n",
       "      <th>count</th>\n",
       "      <td>10369.000000</td>\n",
       "      <td>9150.000000</td>\n",
       "      <td>8737.000000</td>\n",
       "      <td>4669.000000</td>\n",
       "      <td>9460.000000</td>\n",
       "      <td>3418.000000</td>\n",
       "      <td>511.000000</td>\n",
       "    </tr>\n",
       "    <tr>\n",
       "      <th>mean</th>\n",
       "      <td>9667.047449</td>\n",
       "      <td>7.403279</td>\n",
       "      <td>7.037656</td>\n",
       "      <td>3.287856</td>\n",
       "      <td>8.364376</td>\n",
       "      <td>58801.541198</td>\n",
       "      <td>32433.238959</td>\n",
       "    </tr>\n",
       "    <tr>\n",
       "      <th>std</th>\n",
       "      <td>5377.382344</td>\n",
       "      <td>1.845666</td>\n",
       "      <td>2.086461</td>\n",
       "      <td>6.687881</td>\n",
       "      <td>1.387841</td>\n",
       "      <td>40726.188962</td>\n",
       "      <td>28897.073754</td>\n",
       "    </tr>\n",
       "    <tr>\n",
       "      <th>min</th>\n",
       "      <td>1.000000</td>\n",
       "      <td>0.000000</td>\n",
       "      <td>0.000000</td>\n",
       "      <td>0.000000</td>\n",
       "      <td>0.000000</td>\n",
       "      <td>0.117457</td>\n",
       "      <td>0.000000</td>\n",
       "    </tr>\n",
       "    <tr>\n",
       "      <th>25%</th>\n",
       "      <td>5027.000000</td>\n",
       "      <td>7.000000</td>\n",
       "      <td>6.000000</td>\n",
       "      <td>0.000000</td>\n",
       "      <td>8.000000</td>\n",
       "      <td>27956.989247</td>\n",
       "      <td>5376.344086</td>\n",
       "    </tr>\n",
       "    <tr>\n",
       "      <th>50%</th>\n",
       "      <td>10046.000000</td>\n",
       "      <td>8.000000</td>\n",
       "      <td>7.000000</td>\n",
       "      <td>1.000000</td>\n",
       "      <td>8.000000</td>\n",
       "      <td>51720.268943</td>\n",
       "      <td>30000.000000</td>\n",
       "    </tr>\n",
       "    <tr>\n",
       "      <th>75%</th>\n",
       "      <td>14248.000000</td>\n",
       "      <td>9.000000</td>\n",
       "      <td>8.000000</td>\n",
       "      <td>3.000000</td>\n",
       "      <td>9.000000</td>\n",
       "      <td>85000.000000</td>\n",
       "      <td>50000.000000</td>\n",
       "    </tr>\n",
       "    <tr>\n",
       "      <th>max</th>\n",
       "      <td>19100.000000</td>\n",
       "      <td>10.000000</td>\n",
       "      <td>10.000000</td>\n",
       "      <td>40.000000</td>\n",
       "      <td>10.000000</td>\n",
       "      <td>195000.000000</td>\n",
       "      <td>120000.000000</td>\n",
       "    </tr>\n",
       "  </tbody>\n",
       "</table>\n",
       "</div>"
      ],
      "text/plain": [
       "         Respondent  CareerSatisfaction  JobSatisfaction  HoursPerWeek  \\\n",
       "count  10369.000000         9150.000000      8737.000000   4669.000000   \n",
       "mean    9667.047449            7.403279         7.037656      3.287856   \n",
       "std     5377.382344            1.845666         2.086461      6.687881   \n",
       "min        1.000000            0.000000         0.000000      0.000000   \n",
       "25%     5027.000000            7.000000         6.000000      0.000000   \n",
       "50%    10046.000000            8.000000         7.000000      1.000000   \n",
       "75%    14248.000000            9.000000         8.000000      3.000000   \n",
       "max    19100.000000           10.000000        10.000000     40.000000   \n",
       "\n",
       "       StackOverflowSatisfaction         Salary  ExpectedSalary  \n",
       "count                9460.000000    3418.000000      511.000000  \n",
       "mean                    8.364376   58801.541198    32433.238959  \n",
       "std                     1.387841   40726.188962    28897.073754  \n",
       "min                     0.000000       0.117457        0.000000  \n",
       "25%                     8.000000   27956.989247     5376.344086  \n",
       "50%                     8.000000   51720.268943    30000.000000  \n",
       "75%                     9.000000   85000.000000    50000.000000  \n",
       "max                    10.000000  195000.000000   120000.000000  "
      ]
     },
     "execution_count": 132,
     "metadata": {},
     "output_type": "execute_result"
    }
   ],
   "source": [
    "df.describe()"
   ]
  },
  {
   "cell_type": "markdown",
   "metadata": {},
   "source": [
    "Career and Job Satisfaction go up to 10. Mean lies around 7. Stack Overflow Satisfaction mean lies at 8.4.\n",
    "Salary mean lies at 59000 but goes up to 195000. Expected Salary varies between 0 and 120000.\n",
    "A lot of variables are categorical variables and have to be handled for the analysis. I decided to do this for each question separately to keep as much data as possible."
   ]
  },
  {
   "cell_type": "code",
   "execution_count": 133,
   "metadata": {},
   "outputs": [
    {
     "data": {
      "text/plain": [
       "Respondent                     0.000000\n",
       "Professional                   0.000000\n",
       "ProgramHobby                   0.000000\n",
       "Country                        0.000000\n",
       "University                     0.000000\n",
       "EmploymentStatus               0.000000\n",
       "FormalEducation                0.000000\n",
       "MajorUndergrad                 0.141962\n",
       "HomeRemote                     0.108014\n",
       "CompanySize                    0.209278\n",
       "CompanyType                    0.210628\n",
       "YearsProgram                   0.001254\n",
       "YearsCodedJob                  0.155753\n",
       "YearsCodedJobPast              0.980615\n",
       "DeveloperType                  0.240814\n",
       "WebDeveloperType               0.772591\n",
       "MobileDeveloperType            0.971068\n",
       "NonDeveloperType               0.912913\n",
       "CareerSatisfaction             0.117562\n",
       "JobSatisfaction                0.157392\n",
       "ExCoderReturn                  0.980808\n",
       "ExCoderNotForMe                0.981098\n",
       "ExCoderBalance                 0.981001\n",
       "ExCoder10Years                 0.980808\n",
       "ExCoderBelonged                0.980808\n",
       "ExCoderSkills                  0.981098\n",
       "ExCoderWillNotCode             0.980808\n",
       "ExCoderActive                  0.980808\n",
       "PronounceGIF                   0.001447\n",
       "ProblemSolving                 0.273411\n",
       "                                 ...   \n",
       "InfluenceRecruitment           0.463401\n",
       "InfluenceCommunication         0.463497\n",
       "StackOverflowDescribes         0.082168\n",
       "StackOverflowSatisfaction      0.087665\n",
       "StackOverflowDevices           0.114958\n",
       "StackOverflowFoundAnswer       0.125084\n",
       "StackOverflowCopiedCode        0.131450\n",
       "StackOverflowJobListing        0.139358\n",
       "StackOverflowCompanyPage       0.140129\n",
       "StackOverflowJobSearch         0.141672\n",
       "StackOverflowNewQuestion       0.137429\n",
       "StackOverflowAnswer            0.138586\n",
       "StackOverflowMetaChat          0.141190\n",
       "StackOverflowAdsRelevant       0.205227\n",
       "StackOverflowAdsDistracting    0.182178\n",
       "StackOverflowModeration        0.217186\n",
       "StackOverflowCommunity         0.166843\n",
       "StackOverflowHelpful           0.133475\n",
       "StackOverflowBetter            0.137236\n",
       "StackOverflowWhatDo            0.143312\n",
       "StackOverflowMakeMoney         0.194233\n",
       "Gender                         0.119973\n",
       "HighestEducationParents        0.121516\n",
       "Race                           0.162118\n",
       "SurveyLong                     0.120745\n",
       "QuestionsInteresting           0.124988\n",
       "QuestionsConfusing             0.126917\n",
       "InterestedAnswers              0.123348\n",
       "Salary                         0.670364\n",
       "ExpectedSalary                 0.950718\n",
       "Length: 154, dtype: float64"
      ]
     },
     "execution_count": 133,
     "metadata": {},
     "output_type": "execute_result"
    }
   ],
   "source": [
    "#percentage of missing values\n",
    "df.isnull().mean()"
   ]
  },
  {
   "cell_type": "markdown",
   "metadata": {},
   "source": [
    "A lot of column contain a high percentage of missing values. As I won't use machine learning techniques for my analysis, I decided to handle missing data individually for every question, to keep as much data as possible."
   ]
  },
  {
   "cell_type": "markdown",
   "metadata": {},
   "source": [
    "### Question 1: What are the most important aspects when hiring a software developer?"
   ]
  },
  {
   "cell_type": "markdown",
   "metadata": {},
   "source": [
    "### Data preparation & data modeling"
   ]
  },
  {
   "cell_type": "code",
   "execution_count": 61,
   "metadata": {},
   "outputs": [
    {
     "data": {
      "text/plain": [
       "[\"Congratulations! You've just been put in charge of technical recruiting at Globex, a multinational high- tech firm. This job comes with a corner office, and you have an experienced staff of recruiters at your disposal. They want to know what they should prioritize when recruiting software developers. How important should each of the following be in Globex's hiring process? Knowledge of algorithms and data structures\"]"
      ]
     },
     "execution_count": 61,
     "metadata": {},
     "output_type": "execute_result"
    }
   ],
   "source": [
    "#questions regarding importance of different aspects during hiring process\n",
    "df_schema = pd.read_csv('./survey_results_schema.csv')\n",
    "list(df_schema[df_schema.Column == 'ImportantHiringAlgorithms']['Question'])"
   ]
  },
  {
   "cell_type": "code",
   "execution_count": 62,
   "metadata": {},
   "outputs": [
    {
     "data": {
      "text/plain": [
       "8224"
      ]
     },
     "execution_count": 62,
     "metadata": {},
     "output_type": "execute_result"
    }
   ],
   "source": [
    "#checking number of NAs for some hiring importance questions\n",
    "np.sum(df['ImportantHiringRep'].isnull())"
   ]
  },
  {
   "cell_type": "code",
   "execution_count": 63,
   "metadata": {},
   "outputs": [
    {
     "data": {
      "text/plain": [
       "8212"
      ]
     },
     "execution_count": 63,
     "metadata": {},
     "output_type": "execute_result"
    }
   ],
   "source": [
    "np.sum(df['ImportantHiringAlgorithms'].isnull())"
   ]
  },
  {
   "cell_type": "code",
   "execution_count": 64,
   "metadata": {},
   "outputs": [
    {
     "data": {
      "text/plain": [
       "8253"
      ]
     },
     "execution_count": 64,
     "metadata": {},
     "output_type": "execute_result"
    }
   ],
   "source": [
    "np.sum(df['ImportantHiringGettingThingsDone'].isnull())"
   ]
  },
  {
   "cell_type": "code",
   "execution_count": 65,
   "metadata": {},
   "outputs": [],
   "source": [
    "#look at NA'S\n",
    "df_noanswer = df[df['ImportantHiringGettingThingsDone'].isnull()==True]"
   ]
  },
  {
   "cell_type": "code",
   "execution_count": 66,
   "metadata": {},
   "outputs": [
    {
     "data": {
      "text/plain": [
       "Not very important      37\n",
       "Somewhat important      21\n",
       "Important               17\n",
       "Not at all important    15\n",
       "Very important           8\n",
       "Name: ImportantHiringRep, dtype: int64"
      ]
     },
     "execution_count": 66,
     "metadata": {},
     "output_type": "execute_result"
    }
   ],
   "source": [
    "#checking if other hiring importance question are also not answered\n",
    "df_noanswer['ImportantHiringRep'].value_counts()"
   ]
  },
  {
   "cell_type": "code",
   "execution_count": 67,
   "metadata": {},
   "outputs": [
    {
     "data": {
      "text/plain": [
       "Somewhat important      40\n",
       "Important               22\n",
       "Not very important      21\n",
       "Very important           6\n",
       "Not at all important     2\n",
       "Name: ImportantHiringEducation, dtype: int64"
      ]
     },
     "execution_count": 67,
     "metadata": {},
     "output_type": "execute_result"
    }
   ],
   "source": [
    "#checking if other hiring importance question are also not answered\n",
    "df_noanswer['ImportantHiringEducation'].value_counts()"
   ]
  },
  {
   "cell_type": "markdown",
   "metadata": {},
   "source": [
    "Looks like some people answered only certain questions of the hiring importance questions. Nevertheless I want to use only respondents that rated all importance aspects."
   ]
  },
  {
   "cell_type": "code",
   "execution_count": 68,
   "metadata": {},
   "outputs": [],
   "source": [
    "# to check if there is a big change in the data porportions if I remove all NAs, I set up a test dataframe\n",
    "df_test = df.dropna(subset=['ImportantHiringAlgorithms','ImportantHiringTechExp','ImportantHiringCommunication','ImportantHiringOpenSource','ImportantHiringPMExp','ImportantHiringCompanies','ImportantHiringTitles','ImportantHiringEducation','ImportantHiringRep','ImportantHiringGettingThingsDone'],axis=0)"
   ]
  },
  {
   "cell_type": "code",
   "execution_count": 69,
   "metadata": {},
   "outputs": [
    {
     "data": {
      "text/plain": [
       "Male                                                       0.904438\n",
       "Female                                                     0.074959\n",
       "Other                                                      0.005041\n",
       "Gender non-conforming                                      0.003945\n",
       "Male; Other                                                0.003068\n",
       "Female; Transgender                                        0.002411\n",
       "Male; Gender non-conforming                                0.001425\n",
       "Transgender                                                0.001425\n",
       "Female; Gender non-conforming                              0.000986\n",
       "Male; Female; Transgender; Gender non-conforming; Other    0.000438\n",
       "Transgender; Gender non-conforming                         0.000438\n",
       "Male; Female                                               0.000329\n",
       "Male; Female; Transgender; Gender non-conforming           0.000219\n",
       "Female; Transgender; Gender non-conforming                 0.000219\n",
       "Male; Transgender                                          0.000219\n",
       "Male; Female; Transgender                                  0.000219\n",
       "Male; Female; Other                                        0.000110\n",
       "Male; Female; Gender non-conforming                        0.000110\n",
       "Name: Gender, dtype: float64"
      ]
     },
     "execution_count": 69,
     "metadata": {},
     "output_type": "execute_result"
    }
   ],
   "source": [
    "#checking proportions in gender\n",
    "df_test['Gender'].value_counts()/(df_test.shape[0] - sum(df_test['Gender'].isnull()))"
   ]
  },
  {
   "cell_type": "code",
   "execution_count": 70,
   "metadata": {},
   "outputs": [
    {
     "data": {
      "text/plain": [
       "Male                                                       0.903486\n",
       "Female                                                     0.075136\n",
       "Other                                                      0.005655\n",
       "Gender non-conforming                                      0.004183\n",
       "Male; Other                                                0.003253\n",
       "Female; Transgender                                        0.002169\n",
       "Transgender                                                0.001549\n",
       "Male; Gender non-conforming                                0.001472\n",
       "Female; Gender non-conforming                              0.000852\n",
       "Transgender; Gender non-conforming                         0.000387\n",
       "Male; Female                                               0.000387\n",
       "Male; Female; Transgender; Gender non-conforming; Other    0.000310\n",
       "Male; Transgender                                          0.000310\n",
       "Female; Transgender; Gender non-conforming                 0.000232\n",
       "Male; Female; Transgender; Gender non-conforming           0.000155\n",
       "Male; Female; Transgender                                  0.000155\n",
       "Male; Female; Other                                        0.000077\n",
       "Male; Female; Gender non-conforming                        0.000077\n",
       "Female; Other                                              0.000077\n",
       "Gender non-conforming; Other                               0.000077\n",
       "Name: Gender, dtype: float64"
      ]
     },
     "execution_count": 70,
     "metadata": {},
     "output_type": "execute_result"
    }
   ],
   "source": [
    "df['Gender'].value_counts()/(df.shape[0] - sum(df['Gender'].isnull()))"
   ]
  },
  {
   "cell_type": "markdown",
   "metadata": {},
   "source": [
    "Looks like gender proportions roughly stay the same."
   ]
  },
  {
   "cell_type": "code",
   "execution_count": 71,
   "metadata": {},
   "outputs": [
    {
     "data": {
      "text/plain": [
       "Professional developer                                  0.759379\n",
       "Student                                                 0.113704\n",
       "Professional non-developer who sometimes writes code    0.091137\n",
       "Used to be a professional developer                     0.019481\n",
       "None of these                                           0.016299\n",
       "Name: Professional, dtype: float64"
      ]
     },
     "execution_count": 71,
     "metadata": {},
     "output_type": "execute_result"
    }
   ],
   "source": [
    "#checking proportions in profession\n",
    "df_test['Professional'].value_counts()/(df_test.shape[0] - sum(df_test['Professional'].isnull()))"
   ]
  },
  {
   "cell_type": "code",
   "execution_count": 72,
   "metadata": {},
   "outputs": [
    {
     "data": {
      "text/plain": [
       "Professional developer                                  0.721076\n",
       "Student                                                 0.147681\n",
       "Professional non-developer who sometimes writes code    0.093289\n",
       "None of these                                           0.019265\n",
       "Used to be a professional developer                     0.018689\n",
       "Name: Professional, dtype: float64"
      ]
     },
     "execution_count": 72,
     "metadata": {},
     "output_type": "execute_result"
    }
   ],
   "source": [
    "df['Professional'].value_counts()/(df.shape[0] - sum(df['Professional'].isnull()))"
   ]
  },
  {
   "cell_type": "markdown",
   "metadata": {},
   "source": [
    "Within the test dataset the proportion of students is lower compared to the total dataset. That makes sense, as maybe not all students want to answer the hiring question, maybe because of a lack of working experience. "
   ]
  },
  {
   "cell_type": "code",
   "execution_count": 73,
   "metadata": {},
   "outputs": [],
   "source": [
    "#drop missing values and only keep respondents who answered all questions regarding importance when hiring\n",
    "df = df.dropna(subset=['ImportantHiringAlgorithms','ImportantHiringTechExp','ImportantHiringCommunication','ImportantHiringOpenSource','ImportantHiringPMExp','ImportantHiringCompanies','ImportantHiringTitles','ImportantHiringEducation','ImportantHiringRep','ImportantHiringGettingThingsDone'],axis=0)"
   ]
  },
  {
   "cell_type": "code",
   "execution_count": 74,
   "metadata": {},
   "outputs": [],
   "source": [
    "#creating new dataframe with only importance hiring columns\n",
    "df_new = df[['ImportantHiringAlgorithms','ImportantHiringTechExp','ImportantHiringCommunication','ImportantHiringOpenSource','ImportantHiringPMExp','ImportantHiringCompanies','ImportantHiringTitles','ImportantHiringEducation','ImportantHiringRep','ImportantHiringGettingThingsDone']].copy()"
   ]
  },
  {
   "cell_type": "code",
   "execution_count": 75,
   "metadata": {},
   "outputs": [
    {
     "data": {
      "text/html": [
       "<div>\n",
       "<style scoped>\n",
       "    .dataframe tbody tr th:only-of-type {\n",
       "        vertical-align: middle;\n",
       "    }\n",
       "\n",
       "    .dataframe tbody tr th {\n",
       "        vertical-align: top;\n",
       "    }\n",
       "\n",
       "    .dataframe thead th {\n",
       "        text-align: right;\n",
       "    }\n",
       "</style>\n",
       "<table border=\"1\" class=\"dataframe\">\n",
       "  <thead>\n",
       "    <tr style=\"text-align: right;\">\n",
       "      <th></th>\n",
       "      <th>ImportantHiringAlgorithms</th>\n",
       "      <th>ImportantHiringTechExp</th>\n",
       "      <th>ImportantHiringCommunication</th>\n",
       "      <th>ImportantHiringOpenSource</th>\n",
       "      <th>ImportantHiringPMExp</th>\n",
       "      <th>ImportantHiringCompanies</th>\n",
       "      <th>ImportantHiringTitles</th>\n",
       "      <th>ImportantHiringEducation</th>\n",
       "      <th>ImportantHiringRep</th>\n",
       "      <th>ImportantHiringGettingThingsDone</th>\n",
       "    </tr>\n",
       "  </thead>\n",
       "  <tbody>\n",
       "    <tr>\n",
       "      <th>0</th>\n",
       "      <td>Important</td>\n",
       "      <td>Important</td>\n",
       "      <td>Important</td>\n",
       "      <td>Somewhat important</td>\n",
       "      <td>Important</td>\n",
       "      <td>Not very important</td>\n",
       "      <td>Not very important</td>\n",
       "      <td>Not at all important</td>\n",
       "      <td>Somewhat important</td>\n",
       "      <td>Very important</td>\n",
       "    </tr>\n",
       "    <tr>\n",
       "      <th>1</th>\n",
       "      <td>Important</td>\n",
       "      <td>Important</td>\n",
       "      <td>Important</td>\n",
       "      <td>Important</td>\n",
       "      <td>Somewhat important</td>\n",
       "      <td>Somewhat important</td>\n",
       "      <td>Not very important</td>\n",
       "      <td>Somewhat important</td>\n",
       "      <td>Not very important</td>\n",
       "      <td>Very important</td>\n",
       "    </tr>\n",
       "    <tr>\n",
       "      <th>3</th>\n",
       "      <td>Somewhat important</td>\n",
       "      <td>Somewhat important</td>\n",
       "      <td>Very important</td>\n",
       "      <td>Very important</td>\n",
       "      <td>Somewhat important</td>\n",
       "      <td>Somewhat important</td>\n",
       "      <td>Not very important</td>\n",
       "      <td>Not very important</td>\n",
       "      <td>Important</td>\n",
       "      <td>Very important</td>\n",
       "    </tr>\n",
       "    <tr>\n",
       "      <th>5</th>\n",
       "      <td>Not very important</td>\n",
       "      <td>Not very important</td>\n",
       "      <td>Not very important</td>\n",
       "      <td>Important</td>\n",
       "      <td>Not very important</td>\n",
       "      <td>Not very important</td>\n",
       "      <td>Not very important</td>\n",
       "      <td>Not very important</td>\n",
       "      <td>Not at all important</td>\n",
       "      <td>Not very important</td>\n",
       "    </tr>\n",
       "    <tr>\n",
       "      <th>6</th>\n",
       "      <td>Very important</td>\n",
       "      <td>Important</td>\n",
       "      <td>Important</td>\n",
       "      <td>Somewhat important</td>\n",
       "      <td>Somewhat important</td>\n",
       "      <td>Somewhat important</td>\n",
       "      <td>Somewhat important</td>\n",
       "      <td>Somewhat important</td>\n",
       "      <td>Not very important</td>\n",
       "      <td>Very important</td>\n",
       "    </tr>\n",
       "  </tbody>\n",
       "</table>\n",
       "</div>"
      ],
      "text/plain": [
       "  ImportantHiringAlgorithms ImportantHiringTechExp  \\\n",
       "0                 Important              Important   \n",
       "1                 Important              Important   \n",
       "3        Somewhat important     Somewhat important   \n",
       "5        Not very important     Not very important   \n",
       "6            Very important              Important   \n",
       "\n",
       "  ImportantHiringCommunication ImportantHiringOpenSource ImportantHiringPMExp  \\\n",
       "0                    Important        Somewhat important            Important   \n",
       "1                    Important                 Important   Somewhat important   \n",
       "3               Very important            Very important   Somewhat important   \n",
       "5           Not very important                 Important   Not very important   \n",
       "6                    Important        Somewhat important   Somewhat important   \n",
       "\n",
       "  ImportantHiringCompanies ImportantHiringTitles ImportantHiringEducation  \\\n",
       "0       Not very important    Not very important     Not at all important   \n",
       "1       Somewhat important    Not very important       Somewhat important   \n",
       "3       Somewhat important    Not very important       Not very important   \n",
       "5       Not very important    Not very important       Not very important   \n",
       "6       Somewhat important    Somewhat important       Somewhat important   \n",
       "\n",
       "     ImportantHiringRep ImportantHiringGettingThingsDone  \n",
       "0    Somewhat important                   Very important  \n",
       "1    Not very important                   Very important  \n",
       "3             Important                   Very important  \n",
       "5  Not at all important               Not very important  \n",
       "6    Not very important                   Very important  "
      ]
     },
     "execution_count": 75,
     "metadata": {},
     "output_type": "execute_result"
    }
   ],
   "source": [
    "#check new dataframe\n",
    "df_new.head()"
   ]
  },
  {
   "cell_type": "code",
   "execution_count": 76,
   "metadata": {},
   "outputs": [],
   "source": [
    "#creating dummy variables for categorical variables\n",
    "df_new = pd.get_dummies(df_new)"
   ]
  },
  {
   "cell_type": "code",
   "execution_count": 77,
   "metadata": {},
   "outputs": [
    {
     "data": {
      "text/html": [
       "<div>\n",
       "<style scoped>\n",
       "    .dataframe tbody tr th:only-of-type {\n",
       "        vertical-align: middle;\n",
       "    }\n",
       "\n",
       "    .dataframe tbody tr th {\n",
       "        vertical-align: top;\n",
       "    }\n",
       "\n",
       "    .dataframe thead th {\n",
       "        text-align: right;\n",
       "    }\n",
       "</style>\n",
       "<table border=\"1\" class=\"dataframe\">\n",
       "  <thead>\n",
       "    <tr style=\"text-align: right;\">\n",
       "      <th></th>\n",
       "      <th>ImportantHiringAlgorithms_Important</th>\n",
       "      <th>ImportantHiringAlgorithms_Not at all important</th>\n",
       "      <th>ImportantHiringAlgorithms_Not very important</th>\n",
       "      <th>ImportantHiringAlgorithms_Somewhat important</th>\n",
       "      <th>ImportantHiringAlgorithms_Very important</th>\n",
       "      <th>ImportantHiringTechExp_Important</th>\n",
       "      <th>ImportantHiringTechExp_Not at all important</th>\n",
       "      <th>ImportantHiringTechExp_Not very important</th>\n",
       "      <th>ImportantHiringTechExp_Somewhat important</th>\n",
       "      <th>ImportantHiringTechExp_Very important</th>\n",
       "      <th>...</th>\n",
       "      <th>ImportantHiringRep_Important</th>\n",
       "      <th>ImportantHiringRep_Not at all important</th>\n",
       "      <th>ImportantHiringRep_Not very important</th>\n",
       "      <th>ImportantHiringRep_Somewhat important</th>\n",
       "      <th>ImportantHiringRep_Very important</th>\n",
       "      <th>ImportantHiringGettingThingsDone_Important</th>\n",
       "      <th>ImportantHiringGettingThingsDone_Not at all important</th>\n",
       "      <th>ImportantHiringGettingThingsDone_Not very important</th>\n",
       "      <th>ImportantHiringGettingThingsDone_Somewhat important</th>\n",
       "      <th>ImportantHiringGettingThingsDone_Very important</th>\n",
       "    </tr>\n",
       "  </thead>\n",
       "  <tbody>\n",
       "    <tr>\n",
       "      <th>0</th>\n",
       "      <td>1</td>\n",
       "      <td>0</td>\n",
       "      <td>0</td>\n",
       "      <td>0</td>\n",
       "      <td>0</td>\n",
       "      <td>1</td>\n",
       "      <td>0</td>\n",
       "      <td>0</td>\n",
       "      <td>0</td>\n",
       "      <td>0</td>\n",
       "      <td>...</td>\n",
       "      <td>0</td>\n",
       "      <td>0</td>\n",
       "      <td>0</td>\n",
       "      <td>1</td>\n",
       "      <td>0</td>\n",
       "      <td>0</td>\n",
       "      <td>0</td>\n",
       "      <td>0</td>\n",
       "      <td>0</td>\n",
       "      <td>1</td>\n",
       "    </tr>\n",
       "    <tr>\n",
       "      <th>1</th>\n",
       "      <td>1</td>\n",
       "      <td>0</td>\n",
       "      <td>0</td>\n",
       "      <td>0</td>\n",
       "      <td>0</td>\n",
       "      <td>1</td>\n",
       "      <td>0</td>\n",
       "      <td>0</td>\n",
       "      <td>0</td>\n",
       "      <td>0</td>\n",
       "      <td>...</td>\n",
       "      <td>0</td>\n",
       "      <td>0</td>\n",
       "      <td>1</td>\n",
       "      <td>0</td>\n",
       "      <td>0</td>\n",
       "      <td>0</td>\n",
       "      <td>0</td>\n",
       "      <td>0</td>\n",
       "      <td>0</td>\n",
       "      <td>1</td>\n",
       "    </tr>\n",
       "    <tr>\n",
       "      <th>3</th>\n",
       "      <td>0</td>\n",
       "      <td>0</td>\n",
       "      <td>0</td>\n",
       "      <td>1</td>\n",
       "      <td>0</td>\n",
       "      <td>0</td>\n",
       "      <td>0</td>\n",
       "      <td>0</td>\n",
       "      <td>1</td>\n",
       "      <td>0</td>\n",
       "      <td>...</td>\n",
       "      <td>1</td>\n",
       "      <td>0</td>\n",
       "      <td>0</td>\n",
       "      <td>0</td>\n",
       "      <td>0</td>\n",
       "      <td>0</td>\n",
       "      <td>0</td>\n",
       "      <td>0</td>\n",
       "      <td>0</td>\n",
       "      <td>1</td>\n",
       "    </tr>\n",
       "    <tr>\n",
       "      <th>5</th>\n",
       "      <td>0</td>\n",
       "      <td>0</td>\n",
       "      <td>1</td>\n",
       "      <td>0</td>\n",
       "      <td>0</td>\n",
       "      <td>0</td>\n",
       "      <td>0</td>\n",
       "      <td>1</td>\n",
       "      <td>0</td>\n",
       "      <td>0</td>\n",
       "      <td>...</td>\n",
       "      <td>0</td>\n",
       "      <td>1</td>\n",
       "      <td>0</td>\n",
       "      <td>0</td>\n",
       "      <td>0</td>\n",
       "      <td>0</td>\n",
       "      <td>0</td>\n",
       "      <td>1</td>\n",
       "      <td>0</td>\n",
       "      <td>0</td>\n",
       "    </tr>\n",
       "    <tr>\n",
       "      <th>6</th>\n",
       "      <td>0</td>\n",
       "      <td>0</td>\n",
       "      <td>0</td>\n",
       "      <td>0</td>\n",
       "      <td>1</td>\n",
       "      <td>1</td>\n",
       "      <td>0</td>\n",
       "      <td>0</td>\n",
       "      <td>0</td>\n",
       "      <td>0</td>\n",
       "      <td>...</td>\n",
       "      <td>0</td>\n",
       "      <td>0</td>\n",
       "      <td>1</td>\n",
       "      <td>0</td>\n",
       "      <td>0</td>\n",
       "      <td>0</td>\n",
       "      <td>0</td>\n",
       "      <td>0</td>\n",
       "      <td>0</td>\n",
       "      <td>1</td>\n",
       "    </tr>\n",
       "  </tbody>\n",
       "</table>\n",
       "<p>5 rows × 50 columns</p>\n",
       "</div>"
      ],
      "text/plain": [
       "   ImportantHiringAlgorithms_Important  \\\n",
       "0                                    1   \n",
       "1                                    1   \n",
       "3                                    0   \n",
       "5                                    0   \n",
       "6                                    0   \n",
       "\n",
       "   ImportantHiringAlgorithms_Not at all important  \\\n",
       "0                                               0   \n",
       "1                                               0   \n",
       "3                                               0   \n",
       "5                                               0   \n",
       "6                                               0   \n",
       "\n",
       "   ImportantHiringAlgorithms_Not very important  \\\n",
       "0                                             0   \n",
       "1                                             0   \n",
       "3                                             0   \n",
       "5                                             1   \n",
       "6                                             0   \n",
       "\n",
       "   ImportantHiringAlgorithms_Somewhat important  \\\n",
       "0                                             0   \n",
       "1                                             0   \n",
       "3                                             1   \n",
       "5                                             0   \n",
       "6                                             0   \n",
       "\n",
       "   ImportantHiringAlgorithms_Very important  ImportantHiringTechExp_Important  \\\n",
       "0                                         0                                 1   \n",
       "1                                         0                                 1   \n",
       "3                                         0                                 0   \n",
       "5                                         0                                 0   \n",
       "6                                         1                                 1   \n",
       "\n",
       "   ImportantHiringTechExp_Not at all important  \\\n",
       "0                                            0   \n",
       "1                                            0   \n",
       "3                                            0   \n",
       "5                                            0   \n",
       "6                                            0   \n",
       "\n",
       "   ImportantHiringTechExp_Not very important  \\\n",
       "0                                          0   \n",
       "1                                          0   \n",
       "3                                          0   \n",
       "5                                          1   \n",
       "6                                          0   \n",
       "\n",
       "   ImportantHiringTechExp_Somewhat important  \\\n",
       "0                                          0   \n",
       "1                                          0   \n",
       "3                                          1   \n",
       "5                                          0   \n",
       "6                                          0   \n",
       "\n",
       "   ImportantHiringTechExp_Very important  \\\n",
       "0                                      0   \n",
       "1                                      0   \n",
       "3                                      0   \n",
       "5                                      0   \n",
       "6                                      0   \n",
       "\n",
       "                        ...                         \\\n",
       "0                       ...                          \n",
       "1                       ...                          \n",
       "3                       ...                          \n",
       "5                       ...                          \n",
       "6                       ...                          \n",
       "\n",
       "   ImportantHiringRep_Important  ImportantHiringRep_Not at all important  \\\n",
       "0                             0                                        0   \n",
       "1                             0                                        0   \n",
       "3                             1                                        0   \n",
       "5                             0                                        1   \n",
       "6                             0                                        0   \n",
       "\n",
       "   ImportantHiringRep_Not very important  \\\n",
       "0                                      0   \n",
       "1                                      1   \n",
       "3                                      0   \n",
       "5                                      0   \n",
       "6                                      1   \n",
       "\n",
       "   ImportantHiringRep_Somewhat important  ImportantHiringRep_Very important  \\\n",
       "0                                      1                                  0   \n",
       "1                                      0                                  0   \n",
       "3                                      0                                  0   \n",
       "5                                      0                                  0   \n",
       "6                                      0                                  0   \n",
       "\n",
       "   ImportantHiringGettingThingsDone_Important  \\\n",
       "0                                           0   \n",
       "1                                           0   \n",
       "3                                           0   \n",
       "5                                           0   \n",
       "6                                           0   \n",
       "\n",
       "   ImportantHiringGettingThingsDone_Not at all important  \\\n",
       "0                                                  0       \n",
       "1                                                  0       \n",
       "3                                                  0       \n",
       "5                                                  0       \n",
       "6                                                  0       \n",
       "\n",
       "   ImportantHiringGettingThingsDone_Not very important  \\\n",
       "0                                                  0     \n",
       "1                                                  0     \n",
       "3                                                  0     \n",
       "5                                                  1     \n",
       "6                                                  0     \n",
       "\n",
       "   ImportantHiringGettingThingsDone_Somewhat important  \\\n",
       "0                                                  0     \n",
       "1                                                  0     \n",
       "3                                                  0     \n",
       "5                                                  0     \n",
       "6                                                  0     \n",
       "\n",
       "   ImportantHiringGettingThingsDone_Very important  \n",
       "0                                                1  \n",
       "1                                                1  \n",
       "3                                                1  \n",
       "5                                                0  \n",
       "6                                                1  \n",
       "\n",
       "[5 rows x 50 columns]"
      ]
     },
     "execution_count": 77,
     "metadata": {},
     "output_type": "execute_result"
    }
   ],
   "source": [
    "df_new.head()"
   ]
  },
  {
   "cell_type": "code",
   "execution_count": 78,
   "metadata": {},
   "outputs": [],
   "source": [
    "# I only want to have a look at the aspects that are stated as \"very important\", therefore creating new dataframe\n",
    "df_veryimp = df_new[['ImportantHiringAlgorithms_Very important','ImportantHiringOpenSource_Very important','ImportantHiringPMExp_Very important','ImportantHiringCompanies_Very important','ImportantHiringTitles_Very important','ImportantHiringEducation_Very important','ImportantHiringRep_Very important','ImportantHiringGettingThingsDone_Very important']].copy()"
   ]
  },
  {
   "cell_type": "code",
   "execution_count": 79,
   "metadata": {},
   "outputs": [
    {
     "data": {
      "text/html": [
       "<div>\n",
       "<style scoped>\n",
       "    .dataframe tbody tr th:only-of-type {\n",
       "        vertical-align: middle;\n",
       "    }\n",
       "\n",
       "    .dataframe tbody tr th {\n",
       "        vertical-align: top;\n",
       "    }\n",
       "\n",
       "    .dataframe thead th {\n",
       "        text-align: right;\n",
       "    }\n",
       "</style>\n",
       "<table border=\"1\" class=\"dataframe\">\n",
       "  <thead>\n",
       "    <tr style=\"text-align: right;\">\n",
       "      <th></th>\n",
       "      <th>ImportantHiringAlgorithms_Very important</th>\n",
       "      <th>ImportantHiringOpenSource_Very important</th>\n",
       "      <th>ImportantHiringPMExp_Very important</th>\n",
       "      <th>ImportantHiringCompanies_Very important</th>\n",
       "      <th>ImportantHiringTitles_Very important</th>\n",
       "      <th>ImportantHiringEducation_Very important</th>\n",
       "      <th>ImportantHiringRep_Very important</th>\n",
       "      <th>ImportantHiringGettingThingsDone_Very important</th>\n",
       "    </tr>\n",
       "  </thead>\n",
       "  <tbody>\n",
       "    <tr>\n",
       "      <th>0</th>\n",
       "      <td>0</td>\n",
       "      <td>0</td>\n",
       "      <td>0</td>\n",
       "      <td>0</td>\n",
       "      <td>0</td>\n",
       "      <td>0</td>\n",
       "      <td>0</td>\n",
       "      <td>1</td>\n",
       "    </tr>\n",
       "    <tr>\n",
       "      <th>1</th>\n",
       "      <td>0</td>\n",
       "      <td>0</td>\n",
       "      <td>0</td>\n",
       "      <td>0</td>\n",
       "      <td>0</td>\n",
       "      <td>0</td>\n",
       "      <td>0</td>\n",
       "      <td>1</td>\n",
       "    </tr>\n",
       "    <tr>\n",
       "      <th>3</th>\n",
       "      <td>0</td>\n",
       "      <td>1</td>\n",
       "      <td>0</td>\n",
       "      <td>0</td>\n",
       "      <td>0</td>\n",
       "      <td>0</td>\n",
       "      <td>0</td>\n",
       "      <td>1</td>\n",
       "    </tr>\n",
       "    <tr>\n",
       "      <th>5</th>\n",
       "      <td>0</td>\n",
       "      <td>0</td>\n",
       "      <td>0</td>\n",
       "      <td>0</td>\n",
       "      <td>0</td>\n",
       "      <td>0</td>\n",
       "      <td>0</td>\n",
       "      <td>0</td>\n",
       "    </tr>\n",
       "    <tr>\n",
       "      <th>6</th>\n",
       "      <td>1</td>\n",
       "      <td>0</td>\n",
       "      <td>0</td>\n",
       "      <td>0</td>\n",
       "      <td>0</td>\n",
       "      <td>0</td>\n",
       "      <td>0</td>\n",
       "      <td>1</td>\n",
       "    </tr>\n",
       "  </tbody>\n",
       "</table>\n",
       "</div>"
      ],
      "text/plain": [
       "   ImportantHiringAlgorithms_Very important  \\\n",
       "0                                         0   \n",
       "1                                         0   \n",
       "3                                         0   \n",
       "5                                         0   \n",
       "6                                         1   \n",
       "\n",
       "   ImportantHiringOpenSource_Very important  \\\n",
       "0                                         0   \n",
       "1                                         0   \n",
       "3                                         1   \n",
       "5                                         0   \n",
       "6                                         0   \n",
       "\n",
       "   ImportantHiringPMExp_Very important  \\\n",
       "0                                    0   \n",
       "1                                    0   \n",
       "3                                    0   \n",
       "5                                    0   \n",
       "6                                    0   \n",
       "\n",
       "   ImportantHiringCompanies_Very important  \\\n",
       "0                                        0   \n",
       "1                                        0   \n",
       "3                                        0   \n",
       "5                                        0   \n",
       "6                                        0   \n",
       "\n",
       "   ImportantHiringTitles_Very important  \\\n",
       "0                                     0   \n",
       "1                                     0   \n",
       "3                                     0   \n",
       "5                                     0   \n",
       "6                                     0   \n",
       "\n",
       "   ImportantHiringEducation_Very important  ImportantHiringRep_Very important  \\\n",
       "0                                        0                                  0   \n",
       "1                                        0                                  0   \n",
       "3                                        0                                  0   \n",
       "5                                        0                                  0   \n",
       "6                                        0                                  0   \n",
       "\n",
       "   ImportantHiringGettingThingsDone_Very important  \n",
       "0                                                1  \n",
       "1                                                1  \n",
       "3                                                1  \n",
       "5                                                0  \n",
       "6                                                1  "
      ]
     },
     "execution_count": 79,
     "metadata": {},
     "output_type": "execute_result"
    }
   ],
   "source": [
    "#checking database\n",
    "df_veryimp.head()"
   ]
  },
  {
   "cell_type": "code",
   "execution_count": 80,
   "metadata": {},
   "outputs": [
    {
     "data": {
      "text/plain": [
       "Index(['ImportantHiringAlgorithms_Very important',\n",
       "       'ImportantHiringOpenSource_Very important',\n",
       "       'ImportantHiringPMExp_Very important',\n",
       "       'ImportantHiringCompanies_Very important',\n",
       "       'ImportantHiringTitles_Very important',\n",
       "       'ImportantHiringEducation_Very important',\n",
       "       'ImportantHiringRep_Very important',\n",
       "       'ImportantHiringGettingThingsDone_Very important'],\n",
       "      dtype='object')"
      ]
     },
     "execution_count": 80,
     "metadata": {},
     "output_type": "execute_result"
    }
   ],
   "source": [
    "# checking column names\n",
    "df_veryimp.columns"
   ]
  },
  {
   "cell_type": "code",
   "execution_count": 81,
   "metadata": {},
   "outputs": [],
   "source": [
    "#renaming columns for bar chart later\n",
    "df_veryimp.columns = ['Knowledge Algorithms','Contribution Open Source','Project Management','Previous Companies','Previous Titles','Education','Stack Overflow Reputation','Getting Things Done']"
   ]
  },
  {
   "cell_type": "code",
   "execution_count": 82,
   "metadata": {},
   "outputs": [
    {
     "data": {
      "text/html": [
       "<div>\n",
       "<style scoped>\n",
       "    .dataframe tbody tr th:only-of-type {\n",
       "        vertical-align: middle;\n",
       "    }\n",
       "\n",
       "    .dataframe tbody tr th {\n",
       "        vertical-align: top;\n",
       "    }\n",
       "\n",
       "    .dataframe thead th {\n",
       "        text-align: right;\n",
       "    }\n",
       "</style>\n",
       "<table border=\"1\" class=\"dataframe\">\n",
       "  <thead>\n",
       "    <tr style=\"text-align: right;\">\n",
       "      <th></th>\n",
       "      <th>Knowledge Algorithms</th>\n",
       "      <th>Contribution Open Source</th>\n",
       "      <th>Project Management</th>\n",
       "      <th>Previous Companies</th>\n",
       "      <th>Previous Titles</th>\n",
       "      <th>Education</th>\n",
       "      <th>Stack Overflow Reputation</th>\n",
       "      <th>Getting Things Done</th>\n",
       "    </tr>\n",
       "  </thead>\n",
       "  <tbody>\n",
       "    <tr>\n",
       "      <th>0</th>\n",
       "      <td>0</td>\n",
       "      <td>0</td>\n",
       "      <td>0</td>\n",
       "      <td>0</td>\n",
       "      <td>0</td>\n",
       "      <td>0</td>\n",
       "      <td>0</td>\n",
       "      <td>1</td>\n",
       "    </tr>\n",
       "    <tr>\n",
       "      <th>1</th>\n",
       "      <td>0</td>\n",
       "      <td>0</td>\n",
       "      <td>0</td>\n",
       "      <td>0</td>\n",
       "      <td>0</td>\n",
       "      <td>0</td>\n",
       "      <td>0</td>\n",
       "      <td>1</td>\n",
       "    </tr>\n",
       "    <tr>\n",
       "      <th>3</th>\n",
       "      <td>0</td>\n",
       "      <td>1</td>\n",
       "      <td>0</td>\n",
       "      <td>0</td>\n",
       "      <td>0</td>\n",
       "      <td>0</td>\n",
       "      <td>0</td>\n",
       "      <td>1</td>\n",
       "    </tr>\n",
       "    <tr>\n",
       "      <th>5</th>\n",
       "      <td>0</td>\n",
       "      <td>0</td>\n",
       "      <td>0</td>\n",
       "      <td>0</td>\n",
       "      <td>0</td>\n",
       "      <td>0</td>\n",
       "      <td>0</td>\n",
       "      <td>0</td>\n",
       "    </tr>\n",
       "    <tr>\n",
       "      <th>6</th>\n",
       "      <td>1</td>\n",
       "      <td>0</td>\n",
       "      <td>0</td>\n",
       "      <td>0</td>\n",
       "      <td>0</td>\n",
       "      <td>0</td>\n",
       "      <td>0</td>\n",
       "      <td>1</td>\n",
       "    </tr>\n",
       "  </tbody>\n",
       "</table>\n",
       "</div>"
      ],
      "text/plain": [
       "   Knowledge Algorithms  Contribution Open Source  Project Management  \\\n",
       "0                     0                         0                   0   \n",
       "1                     0                         0                   0   \n",
       "3                     0                         1                   0   \n",
       "5                     0                         0                   0   \n",
       "6                     1                         0                   0   \n",
       "\n",
       "   Previous Companies  Previous Titles  Education  Stack Overflow Reputation  \\\n",
       "0                   0                0          0                          0   \n",
       "1                   0                0          0                          0   \n",
       "3                   0                0          0                          0   \n",
       "5                   0                0          0                          0   \n",
       "6                   0                0          0                          0   \n",
       "\n",
       "   Getting Things Done  \n",
       "0                    1  \n",
       "1                    1  \n",
       "3                    1  \n",
       "5                    0  \n",
       "6                    1  "
      ]
     },
     "execution_count": 82,
     "metadata": {},
     "output_type": "execute_result"
    }
   ],
   "source": [
    "df_veryimp.head()"
   ]
  },
  {
   "cell_type": "code",
   "execution_count": 83,
   "metadata": {},
   "outputs": [
    {
     "data": {
      "image/png": "[encoded data removed]",
      "text/plain": [
       "<Figure size 720x360 with 1 Axes>"
      ]
     },
     "metadata": {
      "needs_background": "light"
     },
     "output_type": "display_data"
    }
   ],
   "source": [
    "# bar chart with most important aspects, ordered by importance\n",
    "plt.figure(figsize=(10,5))\n",
    "df_veryimp.mean().sort_values(ascending=False).plot(kind='bar',color=(0.2, 0.4, 0.6, 0.6))\n",
    "plt.title(\"Most important aspects when hiring a software developer\")\n",
    "plt.xlabel('Aspect')\n",
    "plt.xticks(rotation=45)\n",
    "plt.ylabel('Percentage');"
   ]
  },
  {
   "cell_type": "markdown",
   "metadata": {},
   "source": [
    "### Data evaluation"
   ]
  },
  {
   "cell_type": "code",
   "execution_count": 84,
   "metadata": {},
   "outputs": [
    {
     "data": {
      "text/plain": [
       "Getting Things Done          0.345935\n",
       "Knowledge Algorithms         0.202913\n",
       "Project Management           0.048992\n",
       "Contribution Open Source     0.045327\n",
       "Education                    0.031054\n",
       "Previous Companies           0.027486\n",
       "Previous Titles              0.026136\n",
       "Stack Overflow Reputation    0.017552\n",
       "dtype: float64"
      ]
     },
     "execution_count": 84,
     "metadata": {},
     "output_type": "execute_result"
    }
   ],
   "source": [
    "df_veryimp.mean().sort_values(ascending=False)"
   ]
  },
  {
   "cell_type": "markdown",
   "metadata": {},
   "source": [
    "Getting things done and knowledge of algorithms are the two most important aspects when hiring a software developer. It would be also interesting to have a look at hiring aspects only for certain professional types."
   ]
  },
  {
   "cell_type": "markdown",
   "metadata": {},
   "source": [
    "### Question 2: At which platform should I maintain a job profile?"
   ]
  },
  {
   "cell_type": "markdown",
   "metadata": {},
   "source": [
    "### Data preparation & data modeling"
   ]
  },
  {
   "cell_type": "code",
   "execution_count": 85,
   "metadata": {},
   "outputs": [
    {
     "data": {
      "text/plain": [
       "['On which of the following sites do you maintain a profile, CV, or resumé?']"
      ]
     },
     "execution_count": 85,
     "metadata": {},
     "output_type": "execute_result"
    }
   ],
   "source": [
    "#checking survey question\n",
    "list(df_schema[df_schema.Column == 'JobProfile']['Question'])"
   ]
  },
  {
   "cell_type": "code",
   "execution_count": 86,
   "metadata": {},
   "outputs": [
    {
     "data": {
      "text/plain": [
       "2401"
      ]
     },
     "execution_count": 86,
     "metadata": {},
     "output_type": "execute_result"
    }
   ],
   "source": [
    "#checking for missing values\n",
    "np.sum(df.JobProfile.isnull())"
   ]
  },
  {
   "cell_type": "markdown",
   "metadata": {},
   "source": [
    "I decided to keep the missing values as they don't change my analysis."
   ]
  },
  {
   "cell_type": "code",
   "execution_count": 87,
   "metadata": {},
   "outputs": [
    {
     "data": {
      "text/plain": [
       "LinkedIn                                                                       4904\n",
       "LinkedIn; Other                                                                 523\n",
       "Other                                                                           362\n",
       "LinkedIn; Xing                                                                  195\n",
       "Indeed; LinkedIn                                                                179\n",
       "Xing                                                                            154\n",
       "LinkedIn; Monster                                                               144\n",
       "Glassdoor; LinkedIn                                                             123\n",
       "LinkedIn; Naukri                                                                122\n",
       "LinkedIn; Monster; Naukri                                                        73\n",
       "Hired.com; LinkedIn                                                              64\n",
       "Glassdoor; Indeed; LinkedIn                                                      58\n",
       "LinkedIn; Pracuj                                                                 51\n",
       "Dice; LinkedIn                                                                   50\n",
       "Indeed; LinkedIn; Monster                                                        47\n",
       "Monster                                                                          43\n",
       "Naukri                                                                           42\n",
       "Indeed                                                                           35\n",
       "Indeed; LinkedIn; Monster; Naukri                                                33\n",
       "Dice; Indeed; LinkedIn                                                           27\n",
       "LinkedIn; Other; Xing                                                            27\n",
       "Dice; Indeed; LinkedIn; Monster                                                  25\n",
       "LinkedIn; Monster; Other                                                         23\n",
       "Monster; Naukri                                                                  22\n",
       "Dice; LinkedIn; Monster                                                          22\n",
       "Indeed; LinkedIn; Other                                                          21\n",
       "Glassdoor; LinkedIn; Monster                                                     16\n",
       "Dice; Glassdoor; Indeed; LinkedIn                                                16\n",
       "Hired.com; Indeed; LinkedIn                                                      16\n",
       "Other; Xing                                                                      15\n",
       "                                                                               ... \n",
       "Indeed; LinkedIn; StepStone                                                       1\n",
       "Dice; Hired.com; Monster                                                          1\n",
       "Glassdoor; LinkedIn; TripleByte                                                   1\n",
       "Glassdoor; Indeed; Monster                                                        1\n",
       "CW_Jobs; Glassdoor; Indeed; JobSite.co.uk; LinkedIn; Reed.co.uk; Total_Jobs       1\n",
       "Other; Reed.co.uk                                                                 1\n",
       "JobSite.co.uk; LinkedIn; Other; Reed.co.uk                                        1\n",
       "Glassdoor; Hired.com; Indeed; LinkedIn; Monster; Other                            1\n",
       "Hired.com; Indeed; LinkedIn; Naukri; Other                                        1\n",
       "CW_Jobs; Indeed; JobSite.co.uk; LinkedIn; Monster                                 1\n",
       "CW_Jobs; Indeed; LinkedIn; Reed.co.uk                                             1\n",
       "Dice; LinkedIn; Monster; Xing                                                     1\n",
       "Dice; Glassdoor; Monster                                                          1\n",
       "Reed.co.uk; Total_Jobs                                                            1\n",
       "Dice; LinkedIn; Xing                                                              1\n",
       "Indeed; LinkedIn; Monster; Workopolis                                             1\n",
       "CW_Jobs; Indeed; LinkedIn                                                         1\n",
       "JobSite.co.uk; LinkedIn; Total_Jobs                                               1\n",
       "CW_Jobs; Dice; JobSite.co.uk; LinkedIn; Reed.co.uk                                1\n",
       "CW_Jobs; JobSite.co.uk; LinkedIn; Reed.co.uk                                      1\n",
       "Indeed; LinkedIn; Naukri; Other                                                   1\n",
       "Indeed; LinkedIn; StepStone; Xing                                                 1\n",
       "CW_Jobs; Indeed; Reed.co.uk; Total_Jobs                                           1\n",
       "Dice; LinkedIn; Naukri                                                            1\n",
       "CW_Jobs; Glassdoor; Indeed; LinkedIn; Monster; Reed.co.uk; Total_Jobs             1\n",
       "CW_Jobs; Total_Jobs                                                               1\n",
       "CW_Jobs; Glassdoor; Hired.com; LinkedIn                                           1\n",
       "Dice; Glassdoor; Indeed; LinkedIn; Other                                          1\n",
       "Indeed; LinkedIn; Reed.co.uk; Total_Jobs                                          1\n",
       "Hired.com; Indeed; LinkedIn; Monster                                              1\n",
       "Name: JobProfile, Length: 251, dtype: int64"
      ]
     },
     "execution_count": 87,
     "metadata": {},
     "output_type": "execute_result"
    }
   ],
   "source": [
    "# looking at most important platforms\n",
    "df.JobProfile.value_counts()"
   ]
  },
  {
   "cell_type": "markdown",
   "metadata": {},
   "source": [
    "As job platform is categorical data, I need to clean and transform the column:"
   ]
  },
  {
   "cell_type": "code",
   "execution_count": 88,
   "metadata": {},
   "outputs": [],
   "source": [
    "#column jobprofile needs to be cleaned, to have each platform separated\n",
    "#leaving out \"Others\" as possible value, as we can't get any information from \"Other\"\n",
    "possible_vals = ['CW_Jobs', 'Glassdoor', 'Indeed', 'JobSite.co.uk', 'LinkedIn', 'Monster', 'Reed.co.uk',\n",
    "                 'Total_Jobs','Pracuj,Dice','Xing','Naukri','Hired.com','Stepstone','TripleByte','Workopolis']"
   ]
  },
  {
   "cell_type": "code",
   "execution_count": 89,
   "metadata": {},
   "outputs": [
    {
     "data": {
      "text/html": [
       "<div>\n",
       "<style scoped>\n",
       "    .dataframe tbody tr th:only-of-type {\n",
       "        vertical-align: middle;\n",
       "    }\n",
       "\n",
       "    .dataframe tbody tr th {\n",
       "        vertical-align: top;\n",
       "    }\n",
       "\n",
       "    .dataframe thead th {\n",
       "        text-align: right;\n",
       "    }\n",
       "</style>\n",
       "<table border=\"1\" class=\"dataframe\">\n",
       "  <thead>\n",
       "    <tr style=\"text-align: right;\">\n",
       "      <th></th>\n",
       "      <th>index</th>\n",
       "      <th>JobProfile</th>\n",
       "    </tr>\n",
       "  </thead>\n",
       "  <tbody>\n",
       "    <tr>\n",
       "      <th>0</th>\n",
       "      <td>LinkedIn</td>\n",
       "      <td>4904</td>\n",
       "    </tr>\n",
       "    <tr>\n",
       "      <th>1</th>\n",
       "      <td>LinkedIn; Other</td>\n",
       "      <td>523</td>\n",
       "    </tr>\n",
       "    <tr>\n",
       "      <th>2</th>\n",
       "      <td>Other</td>\n",
       "      <td>362</td>\n",
       "    </tr>\n",
       "    <tr>\n",
       "      <th>3</th>\n",
       "      <td>LinkedIn; Xing</td>\n",
       "      <td>195</td>\n",
       "    </tr>\n",
       "    <tr>\n",
       "      <th>4</th>\n",
       "      <td>Indeed; LinkedIn</td>\n",
       "      <td>179</td>\n",
       "    </tr>\n",
       "  </tbody>\n",
       "</table>\n",
       "</div>"
      ],
      "text/plain": [
       "              index  JobProfile\n",
       "0          LinkedIn        4904\n",
       "1   LinkedIn; Other         523\n",
       "2             Other         362\n",
       "3    LinkedIn; Xing         195\n",
       "4  Indeed; LinkedIn         179"
      ]
     },
     "execution_count": 89,
     "metadata": {},
     "output_type": "execute_result"
    }
   ],
   "source": [
    "platform = df['JobProfile'].value_counts().reset_index()\n",
    "platform.head()"
   ]
  },
  {
   "cell_type": "code",
   "execution_count": 90,
   "metadata": {},
   "outputs": [
    {
     "data": {
      "text/html": [
       "<div>\n",
       "<style scoped>\n",
       "    .dataframe tbody tr th:only-of-type {\n",
       "        vertical-align: middle;\n",
       "    }\n",
       "\n",
       "    .dataframe tbody tr th {\n",
       "        vertical-align: top;\n",
       "    }\n",
       "\n",
       "    .dataframe thead th {\n",
       "        text-align: right;\n",
       "    }\n",
       "</style>\n",
       "<table border=\"1\" class=\"dataframe\">\n",
       "  <thead>\n",
       "    <tr style=\"text-align: right;\">\n",
       "      <th></th>\n",
       "      <th>platform</th>\n",
       "      <th>count</th>\n",
       "    </tr>\n",
       "  </thead>\n",
       "  <tbody>\n",
       "    <tr>\n",
       "      <th>0</th>\n",
       "      <td>LinkedIn</td>\n",
       "      <td>4904</td>\n",
       "    </tr>\n",
       "    <tr>\n",
       "      <th>1</th>\n",
       "      <td>LinkedIn; Other</td>\n",
       "      <td>523</td>\n",
       "    </tr>\n",
       "    <tr>\n",
       "      <th>2</th>\n",
       "      <td>Other</td>\n",
       "      <td>362</td>\n",
       "    </tr>\n",
       "    <tr>\n",
       "      <th>3</th>\n",
       "      <td>LinkedIn; Xing</td>\n",
       "      <td>195</td>\n",
       "    </tr>\n",
       "    <tr>\n",
       "      <th>4</th>\n",
       "      <td>Indeed; LinkedIn</td>\n",
       "      <td>179</td>\n",
       "    </tr>\n",
       "  </tbody>\n",
       "</table>\n",
       "</div>"
      ],
      "text/plain": [
       "           platform  count\n",
       "0          LinkedIn   4904\n",
       "1   LinkedIn; Other    523\n",
       "2             Other    362\n",
       "3    LinkedIn; Xing    195\n",
       "4  Indeed; LinkedIn    179"
      ]
     },
     "execution_count": 90,
     "metadata": {},
     "output_type": "execute_result"
    }
   ],
   "source": [
    "#change name of index column\n",
    "platform.rename(columns={'index': 'platform', 'JobProfile': 'count'}, inplace=True)\n",
    "platform.head()"
   ]
  },
  {
   "cell_type": "code",
   "execution_count": 91,
   "metadata": {},
   "outputs": [],
   "source": [
    "#function to calculate total count\n",
    "def total_count(df, col1, col2, look_for):\n",
    "    '''\n",
    "    INPUT:\n",
    "    df - the pandas dataframe you want to search\n",
    "    col1 - the column name you want to look through\n",
    "    col2 - the column you want to count values from\n",
    "    look_for - a list of strings you want to search for in each row of df[col]\n",
    "\n",
    "    OUTPUT:\n",
    "    new_df - a dataframe of each look_for with the count of how often it shows up\n",
    "    '''\n",
    "    new_df = defaultdict(int)\n",
    "    #loop through list of ed types\n",
    "    for val in look_for:\n",
    "        #loop through rows\n",
    "        for idx in range(df.shape[0]):\n",
    "            #if the ed type is in the row add 1\n",
    "            if val in df[col1][idx]:\n",
    "                new_df[val] += int(df[col2][idx])\n",
    "    new_df = pd.DataFrame(pd.Series(new_df)).reset_index()\n",
    "    new_df.columns = [col1, col2]\n",
    "    new_df.sort_values('count', ascending=False, inplace=True)\n",
    "    return new_df"
   ]
  },
  {
   "cell_type": "code",
   "execution_count": 92,
   "metadata": {},
   "outputs": [
    {
     "data": {
      "text/html": [
       "<div>\n",
       "<style scoped>\n",
       "    .dataframe tbody tr th:only-of-type {\n",
       "        vertical-align: middle;\n",
       "    }\n",
       "\n",
       "    .dataframe tbody tr th {\n",
       "        vertical-align: top;\n",
       "    }\n",
       "\n",
       "    .dataframe thead th {\n",
       "        text-align: right;\n",
       "    }\n",
       "</style>\n",
       "<table border=\"1\" class=\"dataframe\">\n",
       "  <thead>\n",
       "    <tr style=\"text-align: right;\">\n",
       "      <th></th>\n",
       "      <th>platform</th>\n",
       "      <th>count</th>\n",
       "    </tr>\n",
       "  </thead>\n",
       "  <tbody>\n",
       "    <tr>\n",
       "      <th>4</th>\n",
       "      <td>LinkedIn</td>\n",
       "      <td>7124</td>\n",
       "    </tr>\n",
       "    <tr>\n",
       "      <th>2</th>\n",
       "      <td>Indeed</td>\n",
       "      <td>659</td>\n",
       "    </tr>\n",
       "    <tr>\n",
       "      <th>5</th>\n",
       "      <td>Monster</td>\n",
       "      <td>650</td>\n",
       "    </tr>\n",
       "    <tr>\n",
       "      <th>8</th>\n",
       "      <td>Xing</td>\n",
       "      <td>425</td>\n",
       "    </tr>\n",
       "    <tr>\n",
       "      <th>1</th>\n",
       "      <td>Glassdoor</td>\n",
       "      <td>348</td>\n",
       "    </tr>\n",
       "    <tr>\n",
       "      <th>9</th>\n",
       "      <td>Naukri</td>\n",
       "      <td>341</td>\n",
       "    </tr>\n",
       "    <tr>\n",
       "      <th>10</th>\n",
       "      <td>Hired.com</td>\n",
       "      <td>198</td>\n",
       "    </tr>\n",
       "    <tr>\n",
       "      <th>3</th>\n",
       "      <td>JobSite.co.uk</td>\n",
       "      <td>79</td>\n",
       "    </tr>\n",
       "    <tr>\n",
       "      <th>0</th>\n",
       "      <td>CW_Jobs</td>\n",
       "      <td>76</td>\n",
       "    </tr>\n",
       "    <tr>\n",
       "      <th>6</th>\n",
       "      <td>Reed.co.uk</td>\n",
       "      <td>72</td>\n",
       "    </tr>\n",
       "    <tr>\n",
       "      <th>7</th>\n",
       "      <td>Total_Jobs</td>\n",
       "      <td>47</td>\n",
       "    </tr>\n",
       "    <tr>\n",
       "      <th>12</th>\n",
       "      <td>Workopolis</td>\n",
       "      <td>27</td>\n",
       "    </tr>\n",
       "    <tr>\n",
       "      <th>11</th>\n",
       "      <td>TripleByte</td>\n",
       "      <td>10</td>\n",
       "    </tr>\n",
       "  </tbody>\n",
       "</table>\n",
       "</div>"
      ],
      "text/plain": [
       "         platform  count\n",
       "4        LinkedIn   7124\n",
       "2          Indeed    659\n",
       "5         Monster    650\n",
       "8            Xing    425\n",
       "1       Glassdoor    348\n",
       "9          Naukri    341\n",
       "10      Hired.com    198\n",
       "3   JobSite.co.uk     79\n",
       "0         CW_Jobs     76\n",
       "6      Reed.co.uk     72\n",
       "7      Total_Jobs     47\n",
       "12     Workopolis     27\n",
       "11     TripleByte     10"
      ]
     },
     "execution_count": 92,
     "metadata": {},
     "output_type": "execute_result"
    }
   ],
   "source": [
    "#having a look at new dataframe\n",
    "platform_df = total_count(platform, 'platform', 'count', possible_vals)\n",
    "platform_df"
   ]
  },
  {
   "cell_type": "code",
   "execution_count": 125,
   "metadata": {},
   "outputs": [],
   "source": [
    "platform_df['percentage'] = platform_df['count']/platform_df.sum()[1]"
   ]
  },
  {
   "cell_type": "code",
   "execution_count": 126,
   "metadata": {},
   "outputs": [
    {
     "data": {
      "text/html": [
       "<div>\n",
       "<style scoped>\n",
       "    .dataframe tbody tr th:only-of-type {\n",
       "        vertical-align: middle;\n",
       "    }\n",
       "\n",
       "    .dataframe tbody tr th {\n",
       "        vertical-align: top;\n",
       "    }\n",
       "\n",
       "    .dataframe thead th {\n",
       "        text-align: right;\n",
       "    }\n",
       "</style>\n",
       "<table border=\"1\" class=\"dataframe\">\n",
       "  <thead>\n",
       "    <tr style=\"text-align: right;\">\n",
       "      <th></th>\n",
       "      <th>platform</th>\n",
       "      <th>count</th>\n",
       "      <th>percentage</th>\n",
       "    </tr>\n",
       "  </thead>\n",
       "  <tbody>\n",
       "    <tr>\n",
       "      <th>4</th>\n",
       "      <td>LinkedIn</td>\n",
       "      <td>7124</td>\n",
       "      <td>0.708433</td>\n",
       "    </tr>\n",
       "    <tr>\n",
       "      <th>2</th>\n",
       "      <td>Indeed</td>\n",
       "      <td>659</td>\n",
       "      <td>0.065533</td>\n",
       "    </tr>\n",
       "    <tr>\n",
       "      <th>5</th>\n",
       "      <td>Monster</td>\n",
       "      <td>650</td>\n",
       "      <td>0.064638</td>\n",
       "    </tr>\n",
       "    <tr>\n",
       "      <th>8</th>\n",
       "      <td>Xing</td>\n",
       "      <td>425</td>\n",
       "      <td>0.042263</td>\n",
       "    </tr>\n",
       "    <tr>\n",
       "      <th>1</th>\n",
       "      <td>Glassdoor</td>\n",
       "      <td>348</td>\n",
       "      <td>0.034606</td>\n",
       "    </tr>\n",
       "    <tr>\n",
       "      <th>9</th>\n",
       "      <td>Naukri</td>\n",
       "      <td>341</td>\n",
       "      <td>0.033910</td>\n",
       "    </tr>\n",
       "    <tr>\n",
       "      <th>10</th>\n",
       "      <td>Hired.com</td>\n",
       "      <td>198</td>\n",
       "      <td>0.019690</td>\n",
       "    </tr>\n",
       "    <tr>\n",
       "      <th>3</th>\n",
       "      <td>JobSite.co.uk</td>\n",
       "      <td>79</td>\n",
       "      <td>0.007856</td>\n",
       "    </tr>\n",
       "    <tr>\n",
       "      <th>0</th>\n",
       "      <td>CW_Jobs</td>\n",
       "      <td>76</td>\n",
       "      <td>0.007558</td>\n",
       "    </tr>\n",
       "    <tr>\n",
       "      <th>6</th>\n",
       "      <td>Reed.co.uk</td>\n",
       "      <td>72</td>\n",
       "      <td>0.007160</td>\n",
       "    </tr>\n",
       "    <tr>\n",
       "      <th>7</th>\n",
       "      <td>Total_Jobs</td>\n",
       "      <td>47</td>\n",
       "      <td>0.004674</td>\n",
       "    </tr>\n",
       "    <tr>\n",
       "      <th>12</th>\n",
       "      <td>Workopolis</td>\n",
       "      <td>27</td>\n",
       "      <td>0.002685</td>\n",
       "    </tr>\n",
       "    <tr>\n",
       "      <th>11</th>\n",
       "      <td>TripleByte</td>\n",
       "      <td>10</td>\n",
       "      <td>0.000994</td>\n",
       "    </tr>\n",
       "  </tbody>\n",
       "</table>\n",
       "</div>"
      ],
      "text/plain": [
       "         platform  count  percentage\n",
       "4        LinkedIn   7124    0.708433\n",
       "2          Indeed    659    0.065533\n",
       "5         Monster    650    0.064638\n",
       "8            Xing    425    0.042263\n",
       "1       Glassdoor    348    0.034606\n",
       "9          Naukri    341    0.033910\n",
       "10      Hired.com    198    0.019690\n",
       "3   JobSite.co.uk     79    0.007856\n",
       "0         CW_Jobs     76    0.007558\n",
       "6      Reed.co.uk     72    0.007160\n",
       "7      Total_Jobs     47    0.004674\n",
       "12     Workopolis     27    0.002685\n",
       "11     TripleByte     10    0.000994"
      ]
     },
     "execution_count": 126,
     "metadata": {},
     "output_type": "execute_result"
    }
   ],
   "source": [
    "platform_df"
   ]
  },
  {
   "cell_type": "code",
   "execution_count": 127,
   "metadata": {},
   "outputs": [
    {
     "data": {
      "text/html": [
       "<div>\n",
       "<style scoped>\n",
       "    .dataframe tbody tr th:only-of-type {\n",
       "        vertical-align: middle;\n",
       "    }\n",
       "\n",
       "    .dataframe tbody tr th {\n",
       "        vertical-align: top;\n",
       "    }\n",
       "\n",
       "    .dataframe thead th {\n",
       "        text-align: right;\n",
       "    }\n",
       "</style>\n",
       "<table border=\"1\" class=\"dataframe\">\n",
       "  <thead>\n",
       "    <tr style=\"text-align: right;\">\n",
       "      <th></th>\n",
       "      <th>platform</th>\n",
       "      <th>count</th>\n",
       "      <th>percentage</th>\n",
       "    </tr>\n",
       "  </thead>\n",
       "  <tbody>\n",
       "    <tr>\n",
       "      <th>4</th>\n",
       "      <td>LinkedIn</td>\n",
       "      <td>7124</td>\n",
       "      <td>0.708433</td>\n",
       "    </tr>\n",
       "    <tr>\n",
       "      <th>2</th>\n",
       "      <td>Indeed</td>\n",
       "      <td>659</td>\n",
       "      <td>0.065533</td>\n",
       "    </tr>\n",
       "    <tr>\n",
       "      <th>5</th>\n",
       "      <td>Monster</td>\n",
       "      <td>650</td>\n",
       "      <td>0.064638</td>\n",
       "    </tr>\n",
       "    <tr>\n",
       "      <th>8</th>\n",
       "      <td>Xing</td>\n",
       "      <td>425</td>\n",
       "      <td>0.042263</td>\n",
       "    </tr>\n",
       "    <tr>\n",
       "      <th>1</th>\n",
       "      <td>Glassdoor</td>\n",
       "      <td>348</td>\n",
       "      <td>0.034606</td>\n",
       "    </tr>\n",
       "  </tbody>\n",
       "</table>\n",
       "</div>"
      ],
      "text/plain": [
       "    platform  count  percentage\n",
       "4   LinkedIn   7124    0.708433\n",
       "2     Indeed    659    0.065533\n",
       "5    Monster    650    0.064638\n",
       "8       Xing    425    0.042263\n",
       "1  Glassdoor    348    0.034606"
      ]
     },
     "execution_count": 127,
     "metadata": {},
     "output_type": "execute_result"
    }
   ],
   "source": [
    "#using only top 5\n",
    "top_5 = platform_df.head(5)\n",
    "top_5"
   ]
  },
  {
   "cell_type": "markdown",
   "metadata": {},
   "source": [
    "### Data evaluation"
   ]
  },
  {
   "cell_type": "code",
   "execution_count": 129,
   "metadata": {},
   "outputs": [
    {
     "data": {
      "image/png": "[encoded data removed]",
      "text/plain": [
       "<Figure size 720x360 with 1 Axes>"
      ]
     },
     "metadata": {
      "needs_background": "light"
     },
     "output_type": "display_data"
    }
   ],
   "source": [
    "#bar chart with top 5 job platforms\n",
    "plt.figure(figsize=(10,5))\n",
    "plt.bar(top_5['platform'], top_5['percentage'],color=(0.2, 0.4, 0.6, 0.6))\n",
    "plt.title(\"Most important important platforms for software developer\")\n",
    "plt.xlabel('Platform');\n",
    "plt.ylabel('Percentage');"
   ]
  },
  {
   "cell_type": "markdown",
   "metadata": {},
   "source": [
    "To get a job as a developer, it is best to maintain a profile at LinkedIn. Over 70% stated that LinkedIn is most important."
   ]
  },
  {
   "cell_type": "markdown",
   "metadata": {},
   "source": [
    "### Question 3: How do you even know that a company is hiring?"
   ]
  },
  {
   "cell_type": "markdown",
   "metadata": {},
   "source": [
    "### Data preparation & data modeling"
   ]
  },
  {
   "cell_type": "code",
   "execution_count": 95,
   "metadata": {},
   "outputs": [
    {
     "data": {
      "text/plain": [
       "2247"
      ]
     },
     "execution_count": 95,
     "metadata": {},
     "output_type": "execute_result"
    }
   ],
   "source": [
    "#checking number of NAs\n",
    "np.sum(df.LearnedHiring.isnull())"
   ]
  },
  {
   "cell_type": "code",
   "execution_count": 134,
   "metadata": {},
   "outputs": [],
   "source": [
    "#Creating two dataframes to inspect missing values more closely\n",
    "df_nolearned = df[df['LearnedHiring'].isnull()==True]\n",
    "df_learned = df[df['LearnedHiring'].isnull()==False]"
   ]
  },
  {
   "cell_type": "code",
   "execution_count": 97,
   "metadata": {},
   "outputs": [
    {
     "data": {
      "text/plain": [
       "Male                                                       0.916189\n",
       "Female                                                     0.057262\n",
       "Other                                                      0.006247\n",
       "Male; Other                                                0.005726\n",
       "Female; Transgender                                        0.005206\n",
       "Gender non-conforming                                      0.004164\n",
       "Male; Gender non-conforming                                0.001562\n",
       "Female; Gender non-conforming                              0.001041\n",
       "Male; Female; Transgender                                  0.000521\n",
       "Transgender; Gender non-conforming                         0.000521\n",
       "Male; Female; Transgender; Gender non-conforming; Other    0.000521\n",
       "Transgender                                                0.000521\n",
       "Male; Female; Gender non-conforming                        0.000521\n",
       "Name: Gender, dtype: float64"
      ]
     },
     "execution_count": 97,
     "metadata": {},
     "output_type": "execute_result"
    }
   ],
   "source": [
    "#checking differences in gender\n",
    "df_nolearned['Gender'].value_counts()/(df_nolearned.shape[0] - sum(df_nolearned['Gender'].isnull()))"
   ]
  },
  {
   "cell_type": "code",
   "execution_count": 98,
   "metadata": {},
   "outputs": [
    {
     "data": {
      "text/plain": [
       "Male                                                       0.901305\n",
       "Female                                                     0.079678\n",
       "Other                                                      0.004720\n",
       "Gender non-conforming                                      0.003887\n",
       "Male; Other                                                0.002360\n",
       "Female; Transgender                                        0.001666\n",
       "Transgender                                                0.001666\n",
       "Male; Gender non-conforming                                0.001388\n",
       "Female; Gender non-conforming                              0.000972\n",
       "Male; Female; Transgender; Gender non-conforming; Other    0.000416\n",
       "Transgender; Gender non-conforming                         0.000416\n",
       "Male; Female                                               0.000416\n",
       "Male; Transgender                                          0.000278\n",
       "Male; Female; Transgender; Gender non-conforming           0.000278\n",
       "Female; Transgender; Gender non-conforming                 0.000278\n",
       "Male; Female; Transgender                                  0.000139\n",
       "Male; Female; Other                                        0.000139\n",
       "Name: Gender, dtype: float64"
      ]
     },
     "execution_count": 98,
     "metadata": {},
     "output_type": "execute_result"
    }
   ],
   "source": [
    "df_learned['Gender'].value_counts()/(df_learned.shape[0] - sum(df_learned['Gender'].isnull()))"
   ]
  },
  {
   "cell_type": "markdown",
   "metadata": {},
   "source": [
    "Looks like the percentage of male respondents that didn't answer the hiring question is a little bit higher, than the ones that answered the question. But for me it would be still ok to drop it."
   ]
  },
  {
   "cell_type": "code",
   "execution_count": 99,
   "metadata": {},
   "outputs": [
    {
     "data": {
      "text/plain": [
       "Professional developer                                  0.446373\n",
       "Student                                                 0.372052\n",
       "None of these                                           0.075211\n",
       "Professional non-developer who sometimes writes code    0.072096\n",
       "Used to be a professional developer                     0.034268\n",
       "Name: Professional, dtype: float64"
      ]
     },
     "execution_count": 99,
     "metadata": {},
     "output_type": "execute_result"
    }
   ],
   "source": [
    "#checking differences in profession\n",
    "df_nolearned['Professional'].value_counts()/(df_nolearned.shape[0] - sum(df_nolearned['Professional'].isnull()))"
   ]
  },
  {
   "cell_type": "code",
   "execution_count": 100,
   "metadata": {},
   "outputs": [
    {
     "data": {
      "text/plain": [
       "Professional developer                                  0.845974\n",
       "Professional non-developer who sometimes writes code    0.096405\n",
       "Student                                                 0.042231\n",
       "Used to be a professional developer                     0.015390\n",
       "Name: Professional, dtype: float64"
      ]
     },
     "execution_count": 100,
     "metadata": {},
     "output_type": "execute_result"
    }
   ],
   "source": [
    "df_learned['Professional'].value_counts()/(df_learned.shape[0] - sum(df_learned['Professional'].isnull()))"
   ]
  },
  {
   "cell_type": "markdown",
   "metadata": {},
   "source": [
    "Among the respondents that didn't answer the hiring question, the percentage of students is a lot higher, than the group that answered the question. That makes also sense, as student might choose to not answer the question, due to a lack of working experience. Therefore I choose to drop the NAs."
   ]
  },
  {
   "cell_type": "code",
   "execution_count": 101,
   "metadata": {},
   "outputs": [],
   "source": [
    "#droping missing values\n",
    "df2 = df.dropna(subset=['LearnedHiring'],axis=0)"
   ]
  },
  {
   "cell_type": "code",
   "execution_count": 102,
   "metadata": {},
   "outputs": [
    {
     "data": {
      "text/plain": [
       "A friend, family member, or former colleague told me                            2240\n",
       "I was contacted directly by someone at the company (e.g. internal recruiter)    1481\n",
       "A general-purpose job board                                                     1096\n",
       "An external recruiter or headhunter                                             1032\n",
       "Some other way                                                                   651\n",
       "I visited the company's Web site and found a job listing there                   649\n",
       "A career fair or on-campus recruiting event                                      616\n",
       "A tech-specific job board                                                        357\n",
       "Name: LearnedHiring, dtype: int64"
      ]
     },
     "execution_count": 102,
     "metadata": {},
     "output_type": "execute_result"
    }
   ],
   "source": [
    "#checking value counts of possible answers \n",
    "df2.LearnedHiring.value_counts()"
   ]
  },
  {
   "cell_type": "code",
   "execution_count": 103,
   "metadata": {},
   "outputs": [],
   "source": [
    "#replacing categorical data with shorter statements\n",
    "df2.replace({'LearnedHiring': {'A friend, family member, or former colleague told me': 'Friend/Family/Colleague', 'I was contacted directly by someone at the company (e.g. internal recruiter)': 'Internal recruiter',\n",
    "                              'A general-purpose job board':'Genereal-purpose job board','An external recruiter or headhunter':'External recruiter',\n",
    "                              'Some other way':'Other',\"I visited the company's Web site and found a job listing there\":\"Company's website\",'A career fair or on-campus recruiting event':'Career fair','A tech-specific job board':'Tech-specific job board'}},inplace=True)"
   ]
  },
  {
   "cell_type": "code",
   "execution_count": 110,
   "metadata": {},
   "outputs": [
    {
     "data": {
      "text/plain": [
       "Friend/Family/Colleague       0.275794\n",
       "Internal recruiter            0.182344\n",
       "Genereal-purpose job board    0.134942\n",
       "External recruiter            0.127062\n",
       "Other                         0.080153\n",
       "Company's website             0.079906\n",
       "Career fair                   0.075843\n",
       "Tech-specific job board       0.043955\n",
       "Name: LearnedHiring, dtype: float64"
      ]
     },
     "execution_count": 110,
     "metadata": {},
     "output_type": "execute_result"
    }
   ],
   "source": [
    "#checking value counts again\n",
    "df2.LearnedHiring.value_counts()/df2.shape[0]"
   ]
  },
  {
   "cell_type": "markdown",
   "metadata": {},
   "source": [
    "### Data evaluation"
   ]
  },
  {
   "cell_type": "code",
   "execution_count": 113,
   "metadata": {},
   "outputs": [
    {
     "data": {
      "image/png": "[encoded data removed]",
      "text/plain": [
       "<Figure size 720x360 with 1 Axes>"
      ]
     },
     "metadata": {
      "needs_background": "light"
     },
     "output_type": "display_data"
    }
   ],
   "source": [
    "#plotting most important aspects\n",
    "plt.figure(figsize=(10,5))\n",
    "(df2.LearnedHiring.value_counts()/df2.shape[0]).plot(kind='bar',color=(0.2, 0.4, 0.6, 0.6))\n",
    "plt.title(\"How did you know, a company is hiring?\")\n",
    "plt.xlabel('Aspect')\n",
    "plt.xticks(rotation=45)\n",
    "plt.ylabel('Percentage');"
   ]
  },
  {
   "cell_type": "markdown",
   "metadata": {},
   "source": [
    "Most people get the information if a company is hiring from friends & colleagues or an internal recruiter. 28% get the information from friens, family, colleagues and 18% from internal recruiters. Tech-specific job boards are not the best source of information."
   ]
  },
  {
   "cell_type": "code",
   "execution_count": null,
   "metadata": {},
   "outputs": [],
   "source": []
  }
 ],
 "metadata": {
  "kernelspec": {
   "display_name": "Python 3",
   "language": "python",
   "name": "python3"
  },
  "language_info": {
   "codemirror_mode": {
    "name": "ipython",
    "version": 3
   },
   "file_extension": ".py",
   "mimetype": "text/x-python",
   "name": "python",
   "nbconvert_exporter": "python",
   "pygments_lexer": "ipython3",
   "version": "3.7.3"
  }
 },
 "nbformat": 4,
 "nbformat_minor": 2
}
