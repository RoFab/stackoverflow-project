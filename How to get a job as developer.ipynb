{
 "cells": [
  {
   "cell_type": "code",
   "execution_count": 168,
   "metadata": {},
   "outputs": [],
   "source": [
    "import numpy as np\n",
    "import pandas as pd\n",
    "import seaborn as sns\n",
    "import matplotlib.pyplot as plt\n",
    "from collections import defaultdict\n",
    "%matplotlib inline"
   ]
  },
  {
   "cell_type": "code",
   "execution_count": 169,
   "metadata": {},
   "outputs": [
    {
     "data": {
      "text/html": [
       "<div>\n",
       "<style scoped>\n",
       "    .dataframe tbody tr th:only-of-type {\n",
       "        vertical-align: middle;\n",
       "    }\n",
       "\n",
       "    .dataframe tbody tr th {\n",
       "        vertical-align: top;\n",
       "    }\n",
       "\n",
       "    .dataframe thead th {\n",
       "        text-align: right;\n",
       "    }\n",
       "</style>\n",
       "<table border=\"1\" class=\"dataframe\">\n",
       "  <thead>\n",
       "    <tr style=\"text-align: right;\">\n",
       "      <th></th>\n",
       "      <th>Respondent</th>\n",
       "      <th>Professional</th>\n",
       "      <th>ProgramHobby</th>\n",
       "      <th>Country</th>\n",
       "      <th>University</th>\n",
       "      <th>EmploymentStatus</th>\n",
       "      <th>FormalEducation</th>\n",
       "      <th>MajorUndergrad</th>\n",
       "      <th>HomeRemote</th>\n",
       "      <th>CompanySize</th>\n",
       "      <th>...</th>\n",
       "      <th>StackOverflowMakeMoney</th>\n",
       "      <th>Gender</th>\n",
       "      <th>HighestEducationParents</th>\n",
       "      <th>Race</th>\n",
       "      <th>SurveyLong</th>\n",
       "      <th>QuestionsInteresting</th>\n",
       "      <th>QuestionsConfusing</th>\n",
       "      <th>InterestedAnswers</th>\n",
       "      <th>Salary</th>\n",
       "      <th>ExpectedSalary</th>\n",
       "    </tr>\n",
       "  </thead>\n",
       "  <tbody>\n",
       "    <tr>\n",
       "      <th>0</th>\n",
       "      <td>1</td>\n",
       "      <td>Student</td>\n",
       "      <td>Yes, both</td>\n",
       "      <td>United States</td>\n",
       "      <td>No</td>\n",
       "      <td>Not employed, and not looking for work</td>\n",
       "      <td>Secondary school</td>\n",
       "      <td>NaN</td>\n",
       "      <td>NaN</td>\n",
       "      <td>NaN</td>\n",
       "      <td>...</td>\n",
       "      <td>Strongly disagree</td>\n",
       "      <td>Male</td>\n",
       "      <td>High school</td>\n",
       "      <td>White or of European descent</td>\n",
       "      <td>Strongly disagree</td>\n",
       "      <td>Strongly agree</td>\n",
       "      <td>Disagree</td>\n",
       "      <td>Strongly agree</td>\n",
       "      <td>NaN</td>\n",
       "      <td>NaN</td>\n",
       "    </tr>\n",
       "    <tr>\n",
       "      <th>1</th>\n",
       "      <td>2</td>\n",
       "      <td>Student</td>\n",
       "      <td>Yes, both</td>\n",
       "      <td>United Kingdom</td>\n",
       "      <td>Yes, full-time</td>\n",
       "      <td>Employed part-time</td>\n",
       "      <td>Some college/university study without earning ...</td>\n",
       "      <td>Computer science or software engineering</td>\n",
       "      <td>More than half, but not all, the time</td>\n",
       "      <td>20 to 99 employees</td>\n",
       "      <td>...</td>\n",
       "      <td>Strongly disagree</td>\n",
       "      <td>Male</td>\n",
       "      <td>A master's degree</td>\n",
       "      <td>White or of European descent</td>\n",
       "      <td>Somewhat agree</td>\n",
       "      <td>Somewhat agree</td>\n",
       "      <td>Disagree</td>\n",
       "      <td>Strongly agree</td>\n",
       "      <td>NaN</td>\n",
       "      <td>37500.0</td>\n",
       "    </tr>\n",
       "    <tr>\n",
       "      <th>2</th>\n",
       "      <td>3</td>\n",
       "      <td>Professional developer</td>\n",
       "      <td>Yes, both</td>\n",
       "      <td>United Kingdom</td>\n",
       "      <td>No</td>\n",
       "      <td>Employed full-time</td>\n",
       "      <td>Bachelor's degree</td>\n",
       "      <td>Computer science or software engineering</td>\n",
       "      <td>Less than half the time, but at least one day ...</td>\n",
       "      <td>10,000 or more employees</td>\n",
       "      <td>...</td>\n",
       "      <td>Disagree</td>\n",
       "      <td>Male</td>\n",
       "      <td>A professional degree</td>\n",
       "      <td>White or of European descent</td>\n",
       "      <td>Somewhat agree</td>\n",
       "      <td>Agree</td>\n",
       "      <td>Disagree</td>\n",
       "      <td>Agree</td>\n",
       "      <td>113750.0</td>\n",
       "      <td>NaN</td>\n",
       "    </tr>\n",
       "    <tr>\n",
       "      <th>3</th>\n",
       "      <td>4</td>\n",
       "      <td>Professional non-developer who sometimes write...</td>\n",
       "      <td>Yes, both</td>\n",
       "      <td>United States</td>\n",
       "      <td>No</td>\n",
       "      <td>Employed full-time</td>\n",
       "      <td>Doctoral degree</td>\n",
       "      <td>A non-computer-focused engineering discipline</td>\n",
       "      <td>Less than half the time, but at least one day ...</td>\n",
       "      <td>10,000 or more employees</td>\n",
       "      <td>...</td>\n",
       "      <td>Disagree</td>\n",
       "      <td>Male</td>\n",
       "      <td>A doctoral degree</td>\n",
       "      <td>White or of European descent</td>\n",
       "      <td>Agree</td>\n",
       "      <td>Agree</td>\n",
       "      <td>Somewhat agree</td>\n",
       "      <td>Strongly agree</td>\n",
       "      <td>NaN</td>\n",
       "      <td>NaN</td>\n",
       "    </tr>\n",
       "    <tr>\n",
       "      <th>4</th>\n",
       "      <td>5</td>\n",
       "      <td>Professional developer</td>\n",
       "      <td>Yes, I program as a hobby</td>\n",
       "      <td>Switzerland</td>\n",
       "      <td>No</td>\n",
       "      <td>Employed full-time</td>\n",
       "      <td>Master's degree</td>\n",
       "      <td>Computer science or software engineering</td>\n",
       "      <td>Never</td>\n",
       "      <td>10 to 19 employees</td>\n",
       "      <td>...</td>\n",
       "      <td>NaN</td>\n",
       "      <td>NaN</td>\n",
       "      <td>NaN</td>\n",
       "      <td>NaN</td>\n",
       "      <td>NaN</td>\n",
       "      <td>NaN</td>\n",
       "      <td>NaN</td>\n",
       "      <td>NaN</td>\n",
       "      <td>NaN</td>\n",
       "      <td>NaN</td>\n",
       "    </tr>\n",
       "  </tbody>\n",
       "</table>\n",
       "<p>5 rows × 154 columns</p>\n",
       "</div>"
      ],
      "text/plain": [
       "   Respondent                                       Professional  \\\n",
       "0           1                                            Student   \n",
       "1           2                                            Student   \n",
       "2           3                             Professional developer   \n",
       "3           4  Professional non-developer who sometimes write...   \n",
       "4           5                             Professional developer   \n",
       "\n",
       "                ProgramHobby         Country      University  \\\n",
       "0                  Yes, both   United States              No   \n",
       "1                  Yes, both  United Kingdom  Yes, full-time   \n",
       "2                  Yes, both  United Kingdom              No   \n",
       "3                  Yes, both   United States              No   \n",
       "4  Yes, I program as a hobby     Switzerland              No   \n",
       "\n",
       "                         EmploymentStatus  \\\n",
       "0  Not employed, and not looking for work   \n",
       "1                      Employed part-time   \n",
       "2                      Employed full-time   \n",
       "3                      Employed full-time   \n",
       "4                      Employed full-time   \n",
       "\n",
       "                                     FormalEducation  \\\n",
       "0                                   Secondary school   \n",
       "1  Some college/university study without earning ...   \n",
       "2                                  Bachelor's degree   \n",
       "3                                    Doctoral degree   \n",
       "4                                    Master's degree   \n",
       "\n",
       "                                  MajorUndergrad  \\\n",
       "0                                            NaN   \n",
       "1       Computer science or software engineering   \n",
       "2       Computer science or software engineering   \n",
       "3  A non-computer-focused engineering discipline   \n",
       "4       Computer science or software engineering   \n",
       "\n",
       "                                          HomeRemote  \\\n",
       "0                                                NaN   \n",
       "1              More than half, but not all, the time   \n",
       "2  Less than half the time, but at least one day ...   \n",
       "3  Less than half the time, but at least one day ...   \n",
       "4                                              Never   \n",
       "\n",
       "                CompanySize       ...       StackOverflowMakeMoney Gender  \\\n",
       "0                       NaN       ...            Strongly disagree   Male   \n",
       "1        20 to 99 employees       ...            Strongly disagree   Male   \n",
       "2  10,000 or more employees       ...                     Disagree   Male   \n",
       "3  10,000 or more employees       ...                     Disagree   Male   \n",
       "4        10 to 19 employees       ...                          NaN    NaN   \n",
       "\n",
       "  HighestEducationParents                          Race         SurveyLong  \\\n",
       "0             High school  White or of European descent  Strongly disagree   \n",
       "1       A master's degree  White or of European descent     Somewhat agree   \n",
       "2   A professional degree  White or of European descent     Somewhat agree   \n",
       "3       A doctoral degree  White or of European descent              Agree   \n",
       "4                     NaN                           NaN                NaN   \n",
       "\n",
       "  QuestionsInteresting QuestionsConfusing InterestedAnswers    Salary  \\\n",
       "0       Strongly agree           Disagree    Strongly agree       NaN   \n",
       "1       Somewhat agree           Disagree    Strongly agree       NaN   \n",
       "2                Agree           Disagree             Agree  113750.0   \n",
       "3                Agree     Somewhat agree    Strongly agree       NaN   \n",
       "4                  NaN                NaN               NaN       NaN   \n",
       "\n",
       "   ExpectedSalary  \n",
       "0             NaN  \n",
       "1         37500.0  \n",
       "2             NaN  \n",
       "3             NaN  \n",
       "4             NaN  \n",
       "\n",
       "[5 rows x 154 columns]"
      ]
     },
     "execution_count": 169,
     "metadata": {},
     "output_type": "execute_result"
    }
   ],
   "source": [
    "# read in dataset\n",
    "df = pd.read_csv('./survey_results_public.csv')\n",
    "df.head()"
   ]
  },
  {
   "cell_type": "code",
   "execution_count": 170,
   "metadata": {},
   "outputs": [
    {
     "data": {
      "text/plain": [
       "(19102, 154)"
      ]
     },
     "execution_count": 170,
     "metadata": {},
     "output_type": "execute_result"
    }
   ],
   "source": [
    "#checking shape of dataset\n",
    "df.shape"
   ]
  },
  {
   "cell_type": "markdown",
   "metadata": {},
   "source": [
    "### Question 1: What are the most important aspects when hiring a software developer?"
   ]
  },
  {
   "cell_type": "code",
   "execution_count": 171,
   "metadata": {},
   "outputs": [
    {
     "data": {
      "text/plain": [
       "[\"Congratulations! You've just been put in charge of technical recruiting at Globex, a multinational high- tech firm. This job comes with a corner office, and you have an experienced staff of recruiters at your disposal. They want to know what they should prioritize when recruiting software developers. How important should each of the following be in Globex's hiring process? Knowledge of algorithms and data structures\"]"
      ]
     },
     "execution_count": 171,
     "metadata": {},
     "output_type": "execute_result"
    }
   ],
   "source": [
    "#questions regarding importance of different aspects during hiring process\n",
    "df_schema = pd.read_csv('./survey_results_schema.csv')\n",
    "list(df_schema[df_schema.Column == 'ImportantHiringAlgorithms']['Question'])"
   ]
  },
  {
   "cell_type": "code",
   "execution_count": 172,
   "metadata": {},
   "outputs": [
    {
     "data": {
      "text/plain": [
       "8224"
      ]
     },
     "execution_count": 172,
     "metadata": {},
     "output_type": "execute_result"
    }
   ],
   "source": [
    "#checking number of NAs for some hiring importance questions\n",
    "np.sum(df['ImportantHiringRep'].isnull())"
   ]
  },
  {
   "cell_type": "code",
   "execution_count": 173,
   "metadata": {},
   "outputs": [
    {
     "data": {
      "text/plain": [
       "8212"
      ]
     },
     "execution_count": 173,
     "metadata": {},
     "output_type": "execute_result"
    }
   ],
   "source": [
    "np.sum(df['ImportantHiringAlgorithms'].isnull())"
   ]
  },
  {
   "cell_type": "code",
   "execution_count": 174,
   "metadata": {},
   "outputs": [
    {
     "data": {
      "text/plain": [
       "8253"
      ]
     },
     "execution_count": 174,
     "metadata": {},
     "output_type": "execute_result"
    }
   ],
   "source": [
    "np.sum(df['ImportantHiringGettingThingsDone'].isnull())"
   ]
  },
  {
   "cell_type": "code",
   "execution_count": 175,
   "metadata": {},
   "outputs": [],
   "source": [
    "#look at NA'S\n",
    "df_noanswer = df[df['ImportantHiringGettingThingsDone'].isnull()==True]"
   ]
  },
  {
   "cell_type": "code",
   "execution_count": 176,
   "metadata": {},
   "outputs": [
    {
     "data": {
      "text/plain": [
       "Not very important      37\n",
       "Somewhat important      21\n",
       "Important               17\n",
       "Not at all important    15\n",
       "Very important           8\n",
       "Name: ImportantHiringRep, dtype: int64"
      ]
     },
     "execution_count": 176,
     "metadata": {},
     "output_type": "execute_result"
    }
   ],
   "source": [
    "#checking if other hiring importance question are also not answered\n",
    "df_noanswer['ImportantHiringRep'].value_counts()"
   ]
  },
  {
   "cell_type": "code",
   "execution_count": 177,
   "metadata": {},
   "outputs": [
    {
     "data": {
      "text/plain": [
       "Somewhat important      40\n",
       "Important               22\n",
       "Not very important      21\n",
       "Very important           6\n",
       "Not at all important     2\n",
       "Name: ImportantHiringEducation, dtype: int64"
      ]
     },
     "execution_count": 177,
     "metadata": {},
     "output_type": "execute_result"
    }
   ],
   "source": [
    "#checking if other hiring importance question are also not answered\n",
    "df_noanswer['ImportantHiringEducation'].value_counts()"
   ]
  },
  {
   "cell_type": "markdown",
   "metadata": {},
   "source": [
    "Looks like some people answered only certain questions of the hiring importance questions. Nevertheless I want to use only respondents that rated all importance aspects."
   ]
  },
  {
   "cell_type": "code",
   "execution_count": 178,
   "metadata": {},
   "outputs": [],
   "source": [
    "# to check if there is a big change in the data porportions if I remove all NAs, I set up a test dataframe\n",
    "df_test = df.dropna(subset=['ImportantHiringAlgorithms','ImportantHiringTechExp','ImportantHiringCommunication','ImportantHiringOpenSource','ImportantHiringPMExp','ImportantHiringCompanies','ImportantHiringTitles','ImportantHiringEducation','ImportantHiringRep','ImportantHiringGettingThingsDone'],axis=0)"
   ]
  },
  {
   "cell_type": "code",
   "execution_count": 179,
   "metadata": {},
   "outputs": [
    {
     "data": {
      "text/plain": [
       "Male                                                       0.904438\n",
       "Female                                                     0.074959\n",
       "Other                                                      0.005041\n",
       "Gender non-conforming                                      0.003945\n",
       "Male; Other                                                0.003068\n",
       "Female; Transgender                                        0.002411\n",
       "Transgender                                                0.001425\n",
       "Male; Gender non-conforming                                0.001425\n",
       "Female; Gender non-conforming                              0.000986\n",
       "Male; Female; Transgender; Gender non-conforming; Other    0.000438\n",
       "Transgender; Gender non-conforming                         0.000438\n",
       "Male; Female                                               0.000329\n",
       "Male; Female; Transgender; Gender non-conforming           0.000219\n",
       "Male; Transgender                                          0.000219\n",
       "Male; Female; Transgender                                  0.000219\n",
       "Female; Transgender; Gender non-conforming                 0.000219\n",
       "Male; Female; Other                                        0.000110\n",
       "Male; Female; Gender non-conforming                        0.000110\n",
       "Name: Gender, dtype: float64"
      ]
     },
     "execution_count": 179,
     "metadata": {},
     "output_type": "execute_result"
    }
   ],
   "source": [
    "#checking proportions in gender\n",
    "df_test['Gender'].value_counts()/(df_test.shape[0] - sum(df_test['Gender'].isnull()))"
   ]
  },
  {
   "cell_type": "code",
   "execution_count": 180,
   "metadata": {},
   "outputs": [
    {
     "data": {
      "text/plain": [
       "Male                                                       0.903486\n",
       "Female                                                     0.075136\n",
       "Other                                                      0.005655\n",
       "Gender non-conforming                                      0.004183\n",
       "Male; Other                                                0.003253\n",
       "Female; Transgender                                        0.002169\n",
       "Transgender                                                0.001549\n",
       "Male; Gender non-conforming                                0.001472\n",
       "Female; Gender non-conforming                              0.000852\n",
       "Male; Female                                               0.000387\n",
       "Transgender; Gender non-conforming                         0.000387\n",
       "Male; Female; Transgender; Gender non-conforming; Other    0.000310\n",
       "Male; Transgender                                          0.000310\n",
       "Female; Transgender; Gender non-conforming                 0.000232\n",
       "Male; Female; Transgender                                  0.000155\n",
       "Male; Female; Transgender; Gender non-conforming           0.000155\n",
       "Female; Other                                              0.000077\n",
       "Male; Female; Other                                        0.000077\n",
       "Gender non-conforming; Other                               0.000077\n",
       "Male; Female; Gender non-conforming                        0.000077\n",
       "Name: Gender, dtype: float64"
      ]
     },
     "execution_count": 180,
     "metadata": {},
     "output_type": "execute_result"
    }
   ],
   "source": [
    "df['Gender'].value_counts()/(df.shape[0] - sum(df['Gender'].isnull()))"
   ]
  },
  {
   "cell_type": "markdown",
   "metadata": {},
   "source": [
    "Looks like gender proportions roughly stay the same."
   ]
  },
  {
   "cell_type": "code",
   "execution_count": 181,
   "metadata": {},
   "outputs": [
    {
     "data": {
      "text/plain": [
       "Professional developer                                  0.759379\n",
       "Student                                                 0.113704\n",
       "Professional non-developer who sometimes writes code    0.091137\n",
       "Used to be a professional developer                     0.019481\n",
       "None of these                                           0.016299\n",
       "Name: Professional, dtype: float64"
      ]
     },
     "execution_count": 181,
     "metadata": {},
     "output_type": "execute_result"
    }
   ],
   "source": [
    "#checking proportions in profession\n",
    "df_test['Professional'].value_counts()/(df_test.shape[0] - sum(df_test['Professional'].isnull()))"
   ]
  },
  {
   "cell_type": "code",
   "execution_count": 182,
   "metadata": {},
   "outputs": [
    {
     "data": {
      "text/plain": [
       "Professional developer                                  0.721076\n",
       "Student                                                 0.147681\n",
       "Professional non-developer who sometimes writes code    0.093289\n",
       "None of these                                           0.019265\n",
       "Used to be a professional developer                     0.018689\n",
       "Name: Professional, dtype: float64"
      ]
     },
     "execution_count": 182,
     "metadata": {},
     "output_type": "execute_result"
    }
   ],
   "source": [
    "df['Professional'].value_counts()/(df.shape[0] - sum(df['Professional'].isnull()))"
   ]
  },
  {
   "cell_type": "markdown",
   "metadata": {},
   "source": [
    "Within the test dataset the proportion of students is lower compared to the total dataset. That makes sense, as maybe not all students want to answer the hiring question, maybe because of a lack of working experience. "
   ]
  },
  {
   "cell_type": "code",
   "execution_count": 183,
   "metadata": {},
   "outputs": [],
   "source": [
    "#drop NA's and only keep respondents who answered all questions regarding importance when hiring\n",
    "df = df.dropna(subset=['ImportantHiringAlgorithms','ImportantHiringTechExp','ImportantHiringCommunication','ImportantHiringOpenSource','ImportantHiringPMExp','ImportantHiringCompanies','ImportantHiringTitles','ImportantHiringEducation','ImportantHiringRep','ImportantHiringGettingThingsDone'],axis=0)"
   ]
  },
  {
   "cell_type": "code",
   "execution_count": 184,
   "metadata": {},
   "outputs": [],
   "source": [
    "#creating new dataframe with only importance hiring columns\n",
    "df_new = df[['ImportantHiringAlgorithms','ImportantHiringTechExp','ImportantHiringCommunication','ImportantHiringOpenSource','ImportantHiringPMExp','ImportantHiringCompanies','ImportantHiringTitles','ImportantHiringEducation','ImportantHiringRep','ImportantHiringGettingThingsDone']].copy()"
   ]
  },
  {
   "cell_type": "code",
   "execution_count": 185,
   "metadata": {},
   "outputs": [
    {
     "data": {
      "text/html": [
       "<div>\n",
       "<style scoped>\n",
       "    .dataframe tbody tr th:only-of-type {\n",
       "        vertical-align: middle;\n",
       "    }\n",
       "\n",
       "    .dataframe tbody tr th {\n",
       "        vertical-align: top;\n",
       "    }\n",
       "\n",
       "    .dataframe thead th {\n",
       "        text-align: right;\n",
       "    }\n",
       "</style>\n",
       "<table border=\"1\" class=\"dataframe\">\n",
       "  <thead>\n",
       "    <tr style=\"text-align: right;\">\n",
       "      <th></th>\n",
       "      <th>ImportantHiringAlgorithms</th>\n",
       "      <th>ImportantHiringTechExp</th>\n",
       "      <th>ImportantHiringCommunication</th>\n",
       "      <th>ImportantHiringOpenSource</th>\n",
       "      <th>ImportantHiringPMExp</th>\n",
       "      <th>ImportantHiringCompanies</th>\n",
       "      <th>ImportantHiringTitles</th>\n",
       "      <th>ImportantHiringEducation</th>\n",
       "      <th>ImportantHiringRep</th>\n",
       "      <th>ImportantHiringGettingThingsDone</th>\n",
       "    </tr>\n",
       "  </thead>\n",
       "  <tbody>\n",
       "    <tr>\n",
       "      <th>0</th>\n",
       "      <td>Important</td>\n",
       "      <td>Important</td>\n",
       "      <td>Important</td>\n",
       "      <td>Somewhat important</td>\n",
       "      <td>Important</td>\n",
       "      <td>Not very important</td>\n",
       "      <td>Not very important</td>\n",
       "      <td>Not at all important</td>\n",
       "      <td>Somewhat important</td>\n",
       "      <td>Very important</td>\n",
       "    </tr>\n",
       "    <tr>\n",
       "      <th>1</th>\n",
       "      <td>Important</td>\n",
       "      <td>Important</td>\n",
       "      <td>Important</td>\n",
       "      <td>Important</td>\n",
       "      <td>Somewhat important</td>\n",
       "      <td>Somewhat important</td>\n",
       "      <td>Not very important</td>\n",
       "      <td>Somewhat important</td>\n",
       "      <td>Not very important</td>\n",
       "      <td>Very important</td>\n",
       "    </tr>\n",
       "    <tr>\n",
       "      <th>3</th>\n",
       "      <td>Somewhat important</td>\n",
       "      <td>Somewhat important</td>\n",
       "      <td>Very important</td>\n",
       "      <td>Very important</td>\n",
       "      <td>Somewhat important</td>\n",
       "      <td>Somewhat important</td>\n",
       "      <td>Not very important</td>\n",
       "      <td>Not very important</td>\n",
       "      <td>Important</td>\n",
       "      <td>Very important</td>\n",
       "    </tr>\n",
       "    <tr>\n",
       "      <th>5</th>\n",
       "      <td>Not very important</td>\n",
       "      <td>Not very important</td>\n",
       "      <td>Not very important</td>\n",
       "      <td>Important</td>\n",
       "      <td>Not very important</td>\n",
       "      <td>Not very important</td>\n",
       "      <td>Not very important</td>\n",
       "      <td>Not very important</td>\n",
       "      <td>Not at all important</td>\n",
       "      <td>Not very important</td>\n",
       "    </tr>\n",
       "    <tr>\n",
       "      <th>6</th>\n",
       "      <td>Very important</td>\n",
       "      <td>Important</td>\n",
       "      <td>Important</td>\n",
       "      <td>Somewhat important</td>\n",
       "      <td>Somewhat important</td>\n",
       "      <td>Somewhat important</td>\n",
       "      <td>Somewhat important</td>\n",
       "      <td>Somewhat important</td>\n",
       "      <td>Not very important</td>\n",
       "      <td>Very important</td>\n",
       "    </tr>\n",
       "  </tbody>\n",
       "</table>\n",
       "</div>"
      ],
      "text/plain": [
       "  ImportantHiringAlgorithms ImportantHiringTechExp  \\\n",
       "0                 Important              Important   \n",
       "1                 Important              Important   \n",
       "3        Somewhat important     Somewhat important   \n",
       "5        Not very important     Not very important   \n",
       "6            Very important              Important   \n",
       "\n",
       "  ImportantHiringCommunication ImportantHiringOpenSource ImportantHiringPMExp  \\\n",
       "0                    Important        Somewhat important            Important   \n",
       "1                    Important                 Important   Somewhat important   \n",
       "3               Very important            Very important   Somewhat important   \n",
       "5           Not very important                 Important   Not very important   \n",
       "6                    Important        Somewhat important   Somewhat important   \n",
       "\n",
       "  ImportantHiringCompanies ImportantHiringTitles ImportantHiringEducation  \\\n",
       "0       Not very important    Not very important     Not at all important   \n",
       "1       Somewhat important    Not very important       Somewhat important   \n",
       "3       Somewhat important    Not very important       Not very important   \n",
       "5       Not very important    Not very important       Not very important   \n",
       "6       Somewhat important    Somewhat important       Somewhat important   \n",
       "\n",
       "     ImportantHiringRep ImportantHiringGettingThingsDone  \n",
       "0    Somewhat important                   Very important  \n",
       "1    Not very important                   Very important  \n",
       "3             Important                   Very important  \n",
       "5  Not at all important               Not very important  \n",
       "6    Not very important                   Very important  "
      ]
     },
     "execution_count": 185,
     "metadata": {},
     "output_type": "execute_result"
    }
   ],
   "source": [
    "#check new dataframe\n",
    "df_new.head()"
   ]
  },
  {
   "cell_type": "code",
   "execution_count": 186,
   "metadata": {},
   "outputs": [],
   "source": [
    "#creating dummy variables\n",
    "df_new = pd.get_dummies(df_new)"
   ]
  },
  {
   "cell_type": "code",
   "execution_count": 187,
   "metadata": {},
   "outputs": [
    {
     "data": {
      "text/html": [
       "<div>\n",
       "<style scoped>\n",
       "    .dataframe tbody tr th:only-of-type {\n",
       "        vertical-align: middle;\n",
       "    }\n",
       "\n",
       "    .dataframe tbody tr th {\n",
       "        vertical-align: top;\n",
       "    }\n",
       "\n",
       "    .dataframe thead th {\n",
       "        text-align: right;\n",
       "    }\n",
       "</style>\n",
       "<table border=\"1\" class=\"dataframe\">\n",
       "  <thead>\n",
       "    <tr style=\"text-align: right;\">\n",
       "      <th></th>\n",
       "      <th>ImportantHiringAlgorithms_Important</th>\n",
       "      <th>ImportantHiringAlgorithms_Not at all important</th>\n",
       "      <th>ImportantHiringAlgorithms_Not very important</th>\n",
       "      <th>ImportantHiringAlgorithms_Somewhat important</th>\n",
       "      <th>ImportantHiringAlgorithms_Very important</th>\n",
       "      <th>ImportantHiringTechExp_Important</th>\n",
       "      <th>ImportantHiringTechExp_Not at all important</th>\n",
       "      <th>ImportantHiringTechExp_Not very important</th>\n",
       "      <th>ImportantHiringTechExp_Somewhat important</th>\n",
       "      <th>ImportantHiringTechExp_Very important</th>\n",
       "      <th>...</th>\n",
       "      <th>ImportantHiringRep_Important</th>\n",
       "      <th>ImportantHiringRep_Not at all important</th>\n",
       "      <th>ImportantHiringRep_Not very important</th>\n",
       "      <th>ImportantHiringRep_Somewhat important</th>\n",
       "      <th>ImportantHiringRep_Very important</th>\n",
       "      <th>ImportantHiringGettingThingsDone_Important</th>\n",
       "      <th>ImportantHiringGettingThingsDone_Not at all important</th>\n",
       "      <th>ImportantHiringGettingThingsDone_Not very important</th>\n",
       "      <th>ImportantHiringGettingThingsDone_Somewhat important</th>\n",
       "      <th>ImportantHiringGettingThingsDone_Very important</th>\n",
       "    </tr>\n",
       "  </thead>\n",
       "  <tbody>\n",
       "    <tr>\n",
       "      <th>0</th>\n",
       "      <td>1</td>\n",
       "      <td>0</td>\n",
       "      <td>0</td>\n",
       "      <td>0</td>\n",
       "      <td>0</td>\n",
       "      <td>1</td>\n",
       "      <td>0</td>\n",
       "      <td>0</td>\n",
       "      <td>0</td>\n",
       "      <td>0</td>\n",
       "      <td>...</td>\n",
       "      <td>0</td>\n",
       "      <td>0</td>\n",
       "      <td>0</td>\n",
       "      <td>1</td>\n",
       "      <td>0</td>\n",
       "      <td>0</td>\n",
       "      <td>0</td>\n",
       "      <td>0</td>\n",
       "      <td>0</td>\n",
       "      <td>1</td>\n",
       "    </tr>\n",
       "    <tr>\n",
       "      <th>1</th>\n",
       "      <td>1</td>\n",
       "      <td>0</td>\n",
       "      <td>0</td>\n",
       "      <td>0</td>\n",
       "      <td>0</td>\n",
       "      <td>1</td>\n",
       "      <td>0</td>\n",
       "      <td>0</td>\n",
       "      <td>0</td>\n",
       "      <td>0</td>\n",
       "      <td>...</td>\n",
       "      <td>0</td>\n",
       "      <td>0</td>\n",
       "      <td>1</td>\n",
       "      <td>0</td>\n",
       "      <td>0</td>\n",
       "      <td>0</td>\n",
       "      <td>0</td>\n",
       "      <td>0</td>\n",
       "      <td>0</td>\n",
       "      <td>1</td>\n",
       "    </tr>\n",
       "    <tr>\n",
       "      <th>3</th>\n",
       "      <td>0</td>\n",
       "      <td>0</td>\n",
       "      <td>0</td>\n",
       "      <td>1</td>\n",
       "      <td>0</td>\n",
       "      <td>0</td>\n",
       "      <td>0</td>\n",
       "      <td>0</td>\n",
       "      <td>1</td>\n",
       "      <td>0</td>\n",
       "      <td>...</td>\n",
       "      <td>1</td>\n",
       "      <td>0</td>\n",
       "      <td>0</td>\n",
       "      <td>0</td>\n",
       "      <td>0</td>\n",
       "      <td>0</td>\n",
       "      <td>0</td>\n",
       "      <td>0</td>\n",
       "      <td>0</td>\n",
       "      <td>1</td>\n",
       "    </tr>\n",
       "    <tr>\n",
       "      <th>5</th>\n",
       "      <td>0</td>\n",
       "      <td>0</td>\n",
       "      <td>1</td>\n",
       "      <td>0</td>\n",
       "      <td>0</td>\n",
       "      <td>0</td>\n",
       "      <td>0</td>\n",
       "      <td>1</td>\n",
       "      <td>0</td>\n",
       "      <td>0</td>\n",
       "      <td>...</td>\n",
       "      <td>0</td>\n",
       "      <td>1</td>\n",
       "      <td>0</td>\n",
       "      <td>0</td>\n",
       "      <td>0</td>\n",
       "      <td>0</td>\n",
       "      <td>0</td>\n",
       "      <td>1</td>\n",
       "      <td>0</td>\n",
       "      <td>0</td>\n",
       "    </tr>\n",
       "    <tr>\n",
       "      <th>6</th>\n",
       "      <td>0</td>\n",
       "      <td>0</td>\n",
       "      <td>0</td>\n",
       "      <td>0</td>\n",
       "      <td>1</td>\n",
       "      <td>1</td>\n",
       "      <td>0</td>\n",
       "      <td>0</td>\n",
       "      <td>0</td>\n",
       "      <td>0</td>\n",
       "      <td>...</td>\n",
       "      <td>0</td>\n",
       "      <td>0</td>\n",
       "      <td>1</td>\n",
       "      <td>0</td>\n",
       "      <td>0</td>\n",
       "      <td>0</td>\n",
       "      <td>0</td>\n",
       "      <td>0</td>\n",
       "      <td>0</td>\n",
       "      <td>1</td>\n",
       "    </tr>\n",
       "  </tbody>\n",
       "</table>\n",
       "<p>5 rows × 50 columns</p>\n",
       "</div>"
      ],
      "text/plain": [
       "   ImportantHiringAlgorithms_Important  \\\n",
       "0                                    1   \n",
       "1                                    1   \n",
       "3                                    0   \n",
       "5                                    0   \n",
       "6                                    0   \n",
       "\n",
       "   ImportantHiringAlgorithms_Not at all important  \\\n",
       "0                                               0   \n",
       "1                                               0   \n",
       "3                                               0   \n",
       "5                                               0   \n",
       "6                                               0   \n",
       "\n",
       "   ImportantHiringAlgorithms_Not very important  \\\n",
       "0                                             0   \n",
       "1                                             0   \n",
       "3                                             0   \n",
       "5                                             1   \n",
       "6                                             0   \n",
       "\n",
       "   ImportantHiringAlgorithms_Somewhat important  \\\n",
       "0                                             0   \n",
       "1                                             0   \n",
       "3                                             1   \n",
       "5                                             0   \n",
       "6                                             0   \n",
       "\n",
       "   ImportantHiringAlgorithms_Very important  ImportantHiringTechExp_Important  \\\n",
       "0                                         0                                 1   \n",
       "1                                         0                                 1   \n",
       "3                                         0                                 0   \n",
       "5                                         0                                 0   \n",
       "6                                         1                                 1   \n",
       "\n",
       "   ImportantHiringTechExp_Not at all important  \\\n",
       "0                                            0   \n",
       "1                                            0   \n",
       "3                                            0   \n",
       "5                                            0   \n",
       "6                                            0   \n",
       "\n",
       "   ImportantHiringTechExp_Not very important  \\\n",
       "0                                          0   \n",
       "1                                          0   \n",
       "3                                          0   \n",
       "5                                          1   \n",
       "6                                          0   \n",
       "\n",
       "   ImportantHiringTechExp_Somewhat important  \\\n",
       "0                                          0   \n",
       "1                                          0   \n",
       "3                                          1   \n",
       "5                                          0   \n",
       "6                                          0   \n",
       "\n",
       "   ImportantHiringTechExp_Very important  \\\n",
       "0                                      0   \n",
       "1                                      0   \n",
       "3                                      0   \n",
       "5                                      0   \n",
       "6                                      0   \n",
       "\n",
       "                        ...                         \\\n",
       "0                       ...                          \n",
       "1                       ...                          \n",
       "3                       ...                          \n",
       "5                       ...                          \n",
       "6                       ...                          \n",
       "\n",
       "   ImportantHiringRep_Important  ImportantHiringRep_Not at all important  \\\n",
       "0                             0                                        0   \n",
       "1                             0                                        0   \n",
       "3                             1                                        0   \n",
       "5                             0                                        1   \n",
       "6                             0                                        0   \n",
       "\n",
       "   ImportantHiringRep_Not very important  \\\n",
       "0                                      0   \n",
       "1                                      1   \n",
       "3                                      0   \n",
       "5                                      0   \n",
       "6                                      1   \n",
       "\n",
       "   ImportantHiringRep_Somewhat important  ImportantHiringRep_Very important  \\\n",
       "0                                      1                                  0   \n",
       "1                                      0                                  0   \n",
       "3                                      0                                  0   \n",
       "5                                      0                                  0   \n",
       "6                                      0                                  0   \n",
       "\n",
       "   ImportantHiringGettingThingsDone_Important  \\\n",
       "0                                           0   \n",
       "1                                           0   \n",
       "3                                           0   \n",
       "5                                           0   \n",
       "6                                           0   \n",
       "\n",
       "   ImportantHiringGettingThingsDone_Not at all important  \\\n",
       "0                                                  0       \n",
       "1                                                  0       \n",
       "3                                                  0       \n",
       "5                                                  0       \n",
       "6                                                  0       \n",
       "\n",
       "   ImportantHiringGettingThingsDone_Not very important  \\\n",
       "0                                                  0     \n",
       "1                                                  0     \n",
       "3                                                  0     \n",
       "5                                                  1     \n",
       "6                                                  0     \n",
       "\n",
       "   ImportantHiringGettingThingsDone_Somewhat important  \\\n",
       "0                                                  0     \n",
       "1                                                  0     \n",
       "3                                                  0     \n",
       "5                                                  0     \n",
       "6                                                  0     \n",
       "\n",
       "   ImportantHiringGettingThingsDone_Very important  \n",
       "0                                                1  \n",
       "1                                                1  \n",
       "3                                                1  \n",
       "5                                                0  \n",
       "6                                                1  \n",
       "\n",
       "[5 rows x 50 columns]"
      ]
     },
     "execution_count": 187,
     "metadata": {},
     "output_type": "execute_result"
    }
   ],
   "source": [
    "df_new.head()"
   ]
  },
  {
   "cell_type": "code",
   "execution_count": 188,
   "metadata": {},
   "outputs": [],
   "source": [
    "# I only want to have a look at the aspects that are stated as \"very important\", therefore creating new dataframe\n",
    "df_veryimp = df_new[['ImportantHiringAlgorithms_Very important','ImportantHiringOpenSource_Very important','ImportantHiringPMExp_Very important','ImportantHiringCompanies_Very important','ImportantHiringTitles_Very important','ImportantHiringEducation_Very important','ImportantHiringRep_Very important','ImportantHiringGettingThingsDone_Very important']].copy()"
   ]
  },
  {
   "cell_type": "code",
   "execution_count": 189,
   "metadata": {},
   "outputs": [
    {
     "data": {
      "text/html": [
       "<div>\n",
       "<style scoped>\n",
       "    .dataframe tbody tr th:only-of-type {\n",
       "        vertical-align: middle;\n",
       "    }\n",
       "\n",
       "    .dataframe tbody tr th {\n",
       "        vertical-align: top;\n",
       "    }\n",
       "\n",
       "    .dataframe thead th {\n",
       "        text-align: right;\n",
       "    }\n",
       "</style>\n",
       "<table border=\"1\" class=\"dataframe\">\n",
       "  <thead>\n",
       "    <tr style=\"text-align: right;\">\n",
       "      <th></th>\n",
       "      <th>ImportantHiringAlgorithms_Very important</th>\n",
       "      <th>ImportantHiringOpenSource_Very important</th>\n",
       "      <th>ImportantHiringPMExp_Very important</th>\n",
       "      <th>ImportantHiringCompanies_Very important</th>\n",
       "      <th>ImportantHiringTitles_Very important</th>\n",
       "      <th>ImportantHiringEducation_Very important</th>\n",
       "      <th>ImportantHiringRep_Very important</th>\n",
       "      <th>ImportantHiringGettingThingsDone_Very important</th>\n",
       "    </tr>\n",
       "  </thead>\n",
       "  <tbody>\n",
       "    <tr>\n",
       "      <th>0</th>\n",
       "      <td>0</td>\n",
       "      <td>0</td>\n",
       "      <td>0</td>\n",
       "      <td>0</td>\n",
       "      <td>0</td>\n",
       "      <td>0</td>\n",
       "      <td>0</td>\n",
       "      <td>1</td>\n",
       "    </tr>\n",
       "    <tr>\n",
       "      <th>1</th>\n",
       "      <td>0</td>\n",
       "      <td>0</td>\n",
       "      <td>0</td>\n",
       "      <td>0</td>\n",
       "      <td>0</td>\n",
       "      <td>0</td>\n",
       "      <td>0</td>\n",
       "      <td>1</td>\n",
       "    </tr>\n",
       "    <tr>\n",
       "      <th>3</th>\n",
       "      <td>0</td>\n",
       "      <td>1</td>\n",
       "      <td>0</td>\n",
       "      <td>0</td>\n",
       "      <td>0</td>\n",
       "      <td>0</td>\n",
       "      <td>0</td>\n",
       "      <td>1</td>\n",
       "    </tr>\n",
       "    <tr>\n",
       "      <th>5</th>\n",
       "      <td>0</td>\n",
       "      <td>0</td>\n",
       "      <td>0</td>\n",
       "      <td>0</td>\n",
       "      <td>0</td>\n",
       "      <td>0</td>\n",
       "      <td>0</td>\n",
       "      <td>0</td>\n",
       "    </tr>\n",
       "    <tr>\n",
       "      <th>6</th>\n",
       "      <td>1</td>\n",
       "      <td>0</td>\n",
       "      <td>0</td>\n",
       "      <td>0</td>\n",
       "      <td>0</td>\n",
       "      <td>0</td>\n",
       "      <td>0</td>\n",
       "      <td>1</td>\n",
       "    </tr>\n",
       "  </tbody>\n",
       "</table>\n",
       "</div>"
      ],
      "text/plain": [
       "   ImportantHiringAlgorithms_Very important  \\\n",
       "0                                         0   \n",
       "1                                         0   \n",
       "3                                         0   \n",
       "5                                         0   \n",
       "6                                         1   \n",
       "\n",
       "   ImportantHiringOpenSource_Very important  \\\n",
       "0                                         0   \n",
       "1                                         0   \n",
       "3                                         1   \n",
       "5                                         0   \n",
       "6                                         0   \n",
       "\n",
       "   ImportantHiringPMExp_Very important  \\\n",
       "0                                    0   \n",
       "1                                    0   \n",
       "3                                    0   \n",
       "5                                    0   \n",
       "6                                    0   \n",
       "\n",
       "   ImportantHiringCompanies_Very important  \\\n",
       "0                                        0   \n",
       "1                                        0   \n",
       "3                                        0   \n",
       "5                                        0   \n",
       "6                                        0   \n",
       "\n",
       "   ImportantHiringTitles_Very important  \\\n",
       "0                                     0   \n",
       "1                                     0   \n",
       "3                                     0   \n",
       "5                                     0   \n",
       "6                                     0   \n",
       "\n",
       "   ImportantHiringEducation_Very important  ImportantHiringRep_Very important  \\\n",
       "0                                        0                                  0   \n",
       "1                                        0                                  0   \n",
       "3                                        0                                  0   \n",
       "5                                        0                                  0   \n",
       "6                                        0                                  0   \n",
       "\n",
       "   ImportantHiringGettingThingsDone_Very important  \n",
       "0                                                1  \n",
       "1                                                1  \n",
       "3                                                1  \n",
       "5                                                0  \n",
       "6                                                1  "
      ]
     },
     "execution_count": 189,
     "metadata": {},
     "output_type": "execute_result"
    }
   ],
   "source": [
    "#checking database\n",
    "df_veryimp.head()"
   ]
  },
  {
   "cell_type": "code",
   "execution_count": 190,
   "metadata": {},
   "outputs": [
    {
     "data": {
      "text/plain": [
       "Index(['ImportantHiringAlgorithms_Very important',\n",
       "       'ImportantHiringOpenSource_Very important',\n",
       "       'ImportantHiringPMExp_Very important',\n",
       "       'ImportantHiringCompanies_Very important',\n",
       "       'ImportantHiringTitles_Very important',\n",
       "       'ImportantHiringEducation_Very important',\n",
       "       'ImportantHiringRep_Very important',\n",
       "       'ImportantHiringGettingThingsDone_Very important'],\n",
       "      dtype='object')"
      ]
     },
     "execution_count": 190,
     "metadata": {},
     "output_type": "execute_result"
    }
   ],
   "source": [
    "# checking column names\n",
    "df_veryimp.columns"
   ]
  },
  {
   "cell_type": "code",
   "execution_count": 191,
   "metadata": {},
   "outputs": [],
   "source": [
    "#renaming columns for bar chart later\n",
    "df_veryimp.columns = ['Knowledge Algorithms','Contribution Open Source','Project Management','Previous Companies','Previous Titles','Education','Stack Overflow Repurtation','Getting Things Done']"
   ]
  },
  {
   "cell_type": "code",
   "execution_count": 192,
   "metadata": {},
   "outputs": [
    {
     "data": {
      "text/html": [
       "<div>\n",
       "<style scoped>\n",
       "    .dataframe tbody tr th:only-of-type {\n",
       "        vertical-align: middle;\n",
       "    }\n",
       "\n",
       "    .dataframe tbody tr th {\n",
       "        vertical-align: top;\n",
       "    }\n",
       "\n",
       "    .dataframe thead th {\n",
       "        text-align: right;\n",
       "    }\n",
       "</style>\n",
       "<table border=\"1\" class=\"dataframe\">\n",
       "  <thead>\n",
       "    <tr style=\"text-align: right;\">\n",
       "      <th></th>\n",
       "      <th>Knowledge Algorithms</th>\n",
       "      <th>Contribution Open Source</th>\n",
       "      <th>Project Management</th>\n",
       "      <th>Previous Companies</th>\n",
       "      <th>Previous Titles</th>\n",
       "      <th>Education</th>\n",
       "      <th>Stack Overflow Repurtation</th>\n",
       "      <th>Getting Things Done</th>\n",
       "    </tr>\n",
       "  </thead>\n",
       "  <tbody>\n",
       "    <tr>\n",
       "      <th>0</th>\n",
       "      <td>0</td>\n",
       "      <td>0</td>\n",
       "      <td>0</td>\n",
       "      <td>0</td>\n",
       "      <td>0</td>\n",
       "      <td>0</td>\n",
       "      <td>0</td>\n",
       "      <td>1</td>\n",
       "    </tr>\n",
       "    <tr>\n",
       "      <th>1</th>\n",
       "      <td>0</td>\n",
       "      <td>0</td>\n",
       "      <td>0</td>\n",
       "      <td>0</td>\n",
       "      <td>0</td>\n",
       "      <td>0</td>\n",
       "      <td>0</td>\n",
       "      <td>1</td>\n",
       "    </tr>\n",
       "    <tr>\n",
       "      <th>3</th>\n",
       "      <td>0</td>\n",
       "      <td>1</td>\n",
       "      <td>0</td>\n",
       "      <td>0</td>\n",
       "      <td>0</td>\n",
       "      <td>0</td>\n",
       "      <td>0</td>\n",
       "      <td>1</td>\n",
       "    </tr>\n",
       "    <tr>\n",
       "      <th>5</th>\n",
       "      <td>0</td>\n",
       "      <td>0</td>\n",
       "      <td>0</td>\n",
       "      <td>0</td>\n",
       "      <td>0</td>\n",
       "      <td>0</td>\n",
       "      <td>0</td>\n",
       "      <td>0</td>\n",
       "    </tr>\n",
       "    <tr>\n",
       "      <th>6</th>\n",
       "      <td>1</td>\n",
       "      <td>0</td>\n",
       "      <td>0</td>\n",
       "      <td>0</td>\n",
       "      <td>0</td>\n",
       "      <td>0</td>\n",
       "      <td>0</td>\n",
       "      <td>1</td>\n",
       "    </tr>\n",
       "  </tbody>\n",
       "</table>\n",
       "</div>"
      ],
      "text/plain": [
       "   Knowledge Algorithms  Contribution Open Source  Project Management  \\\n",
       "0                     0                         0                   0   \n",
       "1                     0                         0                   0   \n",
       "3                     0                         1                   0   \n",
       "5                     0                         0                   0   \n",
       "6                     1                         0                   0   \n",
       "\n",
       "   Previous Companies  Previous Titles  Education  Stack Overflow Repurtation  \\\n",
       "0                   0                0          0                           0   \n",
       "1                   0                0          0                           0   \n",
       "3                   0                0          0                           0   \n",
       "5                   0                0          0                           0   \n",
       "6                   0                0          0                           0   \n",
       "\n",
       "   Getting Things Done  \n",
       "0                    1  \n",
       "1                    1  \n",
       "3                    1  \n",
       "5                    0  \n",
       "6                    1  "
      ]
     },
     "execution_count": 192,
     "metadata": {},
     "output_type": "execute_result"
    }
   ],
   "source": [
    "df_veryimp.head()"
   ]
  },
  {
   "cell_type": "code",
   "execution_count": 193,
   "metadata": {},
   "outputs": [
    {
     "data": {
      "image/png": "[encoded data removed]",
      "text/plain": [
       "<Figure size 720x360 with 1 Axes>"
      ]
     },
     "metadata": {
      "needs_background": "light"
     },
     "output_type": "display_data"
    }
   ],
   "source": [
    "# bar chart with most important aspects, ordered by importance\n",
    "plt.figure(figsize=(10,5))\n",
    "df_veryimp.sum().sort_values(ascending=False).plot(kind='bar',color=(0.2, 0.4, 0.6, 0.6))\n",
    "plt.title(\"Most important aspects when hiring a software developer\")\n",
    "plt.xlabel('Aspect');\n",
    "plt.ylabel('Count');"
   ]
  },
  {
   "cell_type": "markdown",
   "metadata": {},
   "source": [
    "Getting things done and knowledge of algorithms are the two most important aspects when hiring a software developer."
   ]
  },
  {
   "cell_type": "markdown",
   "metadata": {},
   "source": [
    "### Question 2: At which platform should I maintain a job profile?"
   ]
  },
  {
   "cell_type": "code",
   "execution_count": 194,
   "metadata": {},
   "outputs": [
    {
     "data": {
      "text/plain": [
       "['On which of the following sites do you maintain a profile, CV, or resumé?']"
      ]
     },
     "execution_count": 194,
     "metadata": {},
     "output_type": "execute_result"
    }
   ],
   "source": [
    "list(df_schema[df_schema.Column == 'JobProfile']['Question'])"
   ]
  },
  {
   "cell_type": "code",
   "execution_count": 195,
   "metadata": {},
   "outputs": [
    {
     "data": {
      "text/plain": [
       "2401"
      ]
     },
     "execution_count": 195,
     "metadata": {},
     "output_type": "execute_result"
    }
   ],
   "source": [
    "#checking for NAs, won't remove them as they doesn't change my statistic\n",
    "np.sum(df.JobProfile.isnull())"
   ]
  },
  {
   "cell_type": "code",
   "execution_count": 196,
   "metadata": {},
   "outputs": [
    {
     "data": {
      "text/plain": [
       "LinkedIn                                                                             4904\n",
       "LinkedIn; Other                                                                       523\n",
       "Other                                                                                 362\n",
       "LinkedIn; Xing                                                                        195\n",
       "Indeed; LinkedIn                                                                      179\n",
       "Xing                                                                                  154\n",
       "LinkedIn; Monster                                                                     144\n",
       "Glassdoor; LinkedIn                                                                   123\n",
       "LinkedIn; Naukri                                                                      122\n",
       "LinkedIn; Monster; Naukri                                                              73\n",
       "Hired.com; LinkedIn                                                                    64\n",
       "Glassdoor; Indeed; LinkedIn                                                            58\n",
       "LinkedIn; Pracuj                                                                       51\n",
       "Dice; LinkedIn                                                                         50\n",
       "Indeed; LinkedIn; Monster                                                              47\n",
       "Monster                                                                                43\n",
       "Naukri                                                                                 42\n",
       "Indeed                                                                                 35\n",
       "Indeed; LinkedIn; Monster; Naukri                                                      33\n",
       "Dice; Indeed; LinkedIn                                                                 27\n",
       "LinkedIn; Other; Xing                                                                  27\n",
       "Dice; Indeed; LinkedIn; Monster                                                        25\n",
       "LinkedIn; Monster; Other                                                               23\n",
       "Monster; Naukri                                                                        22\n",
       "Dice; LinkedIn; Monster                                                                22\n",
       "Indeed; LinkedIn; Other                                                                21\n",
       "Dice; Glassdoor; Indeed; LinkedIn                                                      16\n",
       "Glassdoor; LinkedIn; Monster                                                           16\n",
       "Hired.com; Indeed; LinkedIn                                                            16\n",
       "Other; Xing                                                                            15\n",
       "                                                                                     ... \n",
       "CW_Jobs; Dice; Indeed; JobSite.co.uk; LinkedIn; Monster; Reed.co.uk; Total_Jobs         1\n",
       "LinkedIn; StepStone; Xing                                                               1\n",
       "CW_Jobs; Glassdoor; Indeed                                                              1\n",
       "Dice; LinkedIn; Naukri                                                                  1\n",
       "Dice; Glassdoor; Hired.com; Indeed; LinkedIn; Monster; Other                            1\n",
       "Glassdoor; Hired.com; LinkedIn; Other                                                   1\n",
       "Glassdoor; Indeed; JobSite.co.uk; LinkedIn; Total_Jobs                                  1\n",
       "Indeed; LinkedIn; Monster; Reed.co.uk; Talent.io                                        1\n",
       "CW_Jobs; JobSite.co.uk; Other; Total_Jobs                                               1\n",
       "Indeed; LinkedIn; Monster; Workopolis                                                   1\n",
       "Hired.com; Indeed; JobSite.co.uk; LinkedIn; Monster; Total_Jobs                         1\n",
       "Hired.com; LinkedIn; Remix_jobs                                                         1\n",
       "CW_Jobs; Dice; JobSite.co.uk; LinkedIn; Reed.co.uk                                      1\n",
       "Dice; Hired.com; Indeed; LinkedIn; Monster; Naukri                                      1\n",
       "Hired.com; Indeed; LinkedIn; Monster; Remix_jobs                                        1\n",
       "LinkedIn; Total_Jobs                                                                    1\n",
       "Dice; Indeed; LinkedIn; Monster; Naukri                                                 1\n",
       "Indeed; LinkedIn; Monster; Remix_jobs                                                   1\n",
       "CW_Jobs; Indeed                                                                         1\n",
       "Glassdoor; Hired.com; LinkedIn; Monster                                                 1\n",
       "Glassdoor; LinkedIn; Monster; Reed.co.uk                                                1\n",
       "Dice; Other                                                                             1\n",
       "Glassdoor; Hired.com; Indeed; LinkedIn; Monster; Other                                  1\n",
       "CW_Jobs; Dice; Glassdoor; Indeed; JobSite.co.uk; LinkedIn; Monster; Reed.co.uk          1\n",
       "Dice; Glassdoor; Indeed; JobSite.co.uk; LinkedIn; Monster; Reed.co.uk; Total_Jobs       1\n",
       "Dice; LinkedIn; Monster; Reed.co.uk; Total_Jobs                                         1\n",
       "Indeed; LinkedIn; Monster; Xing                                                         1\n",
       "CW_Jobs; Indeed; JobSite.co.uk; Reed.co.uk; Total_Jobs                                  1\n",
       "Indeed; Remix_jobs                                                                      1\n",
       "LinkedIn; Other; TripleByte                                                             1\n",
       "Name: JobProfile, Length: 251, dtype: int64"
      ]
     },
     "execution_count": 196,
     "metadata": {},
     "output_type": "execute_result"
    }
   ],
   "source": [
    "# looking at most important platforms\n",
    "df.JobProfile.value_counts()"
   ]
  },
  {
   "cell_type": "code",
   "execution_count": 197,
   "metadata": {},
   "outputs": [],
   "source": [
    "#column jobprofile needs to be cleaned, to have each platform separated\n",
    "#leaving out \"Others\" as possible value, has we can't get any information from \"Other\"\n",
    "possible_vals = ['CW_Jobs', 'Glassdoor', 'Indeed', 'JobSite.co.uk', 'LinkedIn', 'Monster', 'Reed.co.uk',\n",
    "                 'Total_Jobs','Pracuj,Dice','Xing','Naukri','Hired.com','Stepstone','TripleByte','Workopolis']"
   ]
  },
  {
   "cell_type": "code",
   "execution_count": 198,
   "metadata": {},
   "outputs": [
    {
     "data": {
      "text/html": [
       "<div>\n",
       "<style scoped>\n",
       "    .dataframe tbody tr th:only-of-type {\n",
       "        vertical-align: middle;\n",
       "    }\n",
       "\n",
       "    .dataframe tbody tr th {\n",
       "        vertical-align: top;\n",
       "    }\n",
       "\n",
       "    .dataframe thead th {\n",
       "        text-align: right;\n",
       "    }\n",
       "</style>\n",
       "<table border=\"1\" class=\"dataframe\">\n",
       "  <thead>\n",
       "    <tr style=\"text-align: right;\">\n",
       "      <th></th>\n",
       "      <th>index</th>\n",
       "      <th>JobProfile</th>\n",
       "    </tr>\n",
       "  </thead>\n",
       "  <tbody>\n",
       "    <tr>\n",
       "      <th>0</th>\n",
       "      <td>LinkedIn</td>\n",
       "      <td>4904</td>\n",
       "    </tr>\n",
       "    <tr>\n",
       "      <th>1</th>\n",
       "      <td>LinkedIn; Other</td>\n",
       "      <td>523</td>\n",
       "    </tr>\n",
       "    <tr>\n",
       "      <th>2</th>\n",
       "      <td>Other</td>\n",
       "      <td>362</td>\n",
       "    </tr>\n",
       "    <tr>\n",
       "      <th>3</th>\n",
       "      <td>LinkedIn; Xing</td>\n",
       "      <td>195</td>\n",
       "    </tr>\n",
       "    <tr>\n",
       "      <th>4</th>\n",
       "      <td>Indeed; LinkedIn</td>\n",
       "      <td>179</td>\n",
       "    </tr>\n",
       "  </tbody>\n",
       "</table>\n",
       "</div>"
      ],
      "text/plain": [
       "              index  JobProfile\n",
       "0          LinkedIn        4904\n",
       "1   LinkedIn; Other         523\n",
       "2             Other         362\n",
       "3    LinkedIn; Xing         195\n",
       "4  Indeed; LinkedIn         179"
      ]
     },
     "execution_count": 198,
     "metadata": {},
     "output_type": "execute_result"
    }
   ],
   "source": [
    "platform = df['JobProfile'].value_counts().reset_index()\n",
    "platform.head()"
   ]
  },
  {
   "cell_type": "code",
   "execution_count": 199,
   "metadata": {},
   "outputs": [
    {
     "data": {
      "text/html": [
       "<div>\n",
       "<style scoped>\n",
       "    .dataframe tbody tr th:only-of-type {\n",
       "        vertical-align: middle;\n",
       "    }\n",
       "\n",
       "    .dataframe tbody tr th {\n",
       "        vertical-align: top;\n",
       "    }\n",
       "\n",
       "    .dataframe thead th {\n",
       "        text-align: right;\n",
       "    }\n",
       "</style>\n",
       "<table border=\"1\" class=\"dataframe\">\n",
       "  <thead>\n",
       "    <tr style=\"text-align: right;\">\n",
       "      <th></th>\n",
       "      <th>platform</th>\n",
       "      <th>count</th>\n",
       "    </tr>\n",
       "  </thead>\n",
       "  <tbody>\n",
       "    <tr>\n",
       "      <th>0</th>\n",
       "      <td>LinkedIn</td>\n",
       "      <td>4904</td>\n",
       "    </tr>\n",
       "    <tr>\n",
       "      <th>1</th>\n",
       "      <td>LinkedIn; Other</td>\n",
       "      <td>523</td>\n",
       "    </tr>\n",
       "    <tr>\n",
       "      <th>2</th>\n",
       "      <td>Other</td>\n",
       "      <td>362</td>\n",
       "    </tr>\n",
       "    <tr>\n",
       "      <th>3</th>\n",
       "      <td>LinkedIn; Xing</td>\n",
       "      <td>195</td>\n",
       "    </tr>\n",
       "    <tr>\n",
       "      <th>4</th>\n",
       "      <td>Indeed; LinkedIn</td>\n",
       "      <td>179</td>\n",
       "    </tr>\n",
       "  </tbody>\n",
       "</table>\n",
       "</div>"
      ],
      "text/plain": [
       "           platform  count\n",
       "0          LinkedIn   4904\n",
       "1   LinkedIn; Other    523\n",
       "2             Other    362\n",
       "3    LinkedIn; Xing    195\n",
       "4  Indeed; LinkedIn    179"
      ]
     },
     "execution_count": 199,
     "metadata": {},
     "output_type": "execute_result"
    }
   ],
   "source": [
    "#change name of index column\n",
    "platform.rename(columns={'index': 'platform', 'JobProfile': 'count'}, inplace=True)\n",
    "platform.head()"
   ]
  },
  {
   "cell_type": "code",
   "execution_count": 200,
   "metadata": {},
   "outputs": [],
   "source": [
    "#function to calculate total count\n",
    "def total_count(df, col1, col2, look_for):\n",
    "    '''\n",
    "    INPUT:\n",
    "    df - the pandas dataframe you want to search\n",
    "    col1 - the column name you want to look through\n",
    "    col2 - the column you want to count values from\n",
    "    look_for - a list of strings you want to search for in each row of df[col]\n",
    "\n",
    "    OUTPUT:\n",
    "    new_df - a dataframe of each look_for with the count of how often it shows up\n",
    "    '''\n",
    "    new_df = defaultdict(int)\n",
    "    #loop through list of ed types\n",
    "    for val in look_for:\n",
    "        #loop through rows\n",
    "        for idx in range(df.shape[0]):\n",
    "            #if the ed type is in the row add 1\n",
    "            if val in df[col1][idx]:\n",
    "                new_df[val] += int(df[col2][idx])\n",
    "    new_df = pd.DataFrame(pd.Series(new_df)).reset_index()\n",
    "    new_df.columns = [col1, col2]\n",
    "    new_df.sort_values('count', ascending=False, inplace=True)\n",
    "    return new_df"
   ]
  },
  {
   "cell_type": "code",
   "execution_count": 201,
   "metadata": {},
   "outputs": [
    {
     "data": {
      "text/html": [
       "<div>\n",
       "<style scoped>\n",
       "    .dataframe tbody tr th:only-of-type {\n",
       "        vertical-align: middle;\n",
       "    }\n",
       "\n",
       "    .dataframe tbody tr th {\n",
       "        vertical-align: top;\n",
       "    }\n",
       "\n",
       "    .dataframe thead th {\n",
       "        text-align: right;\n",
       "    }\n",
       "</style>\n",
       "<table border=\"1\" class=\"dataframe\">\n",
       "  <thead>\n",
       "    <tr style=\"text-align: right;\">\n",
       "      <th></th>\n",
       "      <th>platform</th>\n",
       "      <th>count</th>\n",
       "    </tr>\n",
       "  </thead>\n",
       "  <tbody>\n",
       "    <tr>\n",
       "      <th>4</th>\n",
       "      <td>LinkedIn</td>\n",
       "      <td>7124</td>\n",
       "    </tr>\n",
       "    <tr>\n",
       "      <th>2</th>\n",
       "      <td>Indeed</td>\n",
       "      <td>659</td>\n",
       "    </tr>\n",
       "    <tr>\n",
       "      <th>5</th>\n",
       "      <td>Monster</td>\n",
       "      <td>650</td>\n",
       "    </tr>\n",
       "    <tr>\n",
       "      <th>8</th>\n",
       "      <td>Xing</td>\n",
       "      <td>425</td>\n",
       "    </tr>\n",
       "    <tr>\n",
       "      <th>1</th>\n",
       "      <td>Glassdoor</td>\n",
       "      <td>348</td>\n",
       "    </tr>\n",
       "    <tr>\n",
       "      <th>9</th>\n",
       "      <td>Naukri</td>\n",
       "      <td>341</td>\n",
       "    </tr>\n",
       "    <tr>\n",
       "      <th>10</th>\n",
       "      <td>Hired.com</td>\n",
       "      <td>198</td>\n",
       "    </tr>\n",
       "    <tr>\n",
       "      <th>3</th>\n",
       "      <td>JobSite.co.uk</td>\n",
       "      <td>79</td>\n",
       "    </tr>\n",
       "    <tr>\n",
       "      <th>0</th>\n",
       "      <td>CW_Jobs</td>\n",
       "      <td>76</td>\n",
       "    </tr>\n",
       "    <tr>\n",
       "      <th>6</th>\n",
       "      <td>Reed.co.uk</td>\n",
       "      <td>72</td>\n",
       "    </tr>\n",
       "    <tr>\n",
       "      <th>7</th>\n",
       "      <td>Total_Jobs</td>\n",
       "      <td>47</td>\n",
       "    </tr>\n",
       "    <tr>\n",
       "      <th>12</th>\n",
       "      <td>Workopolis</td>\n",
       "      <td>27</td>\n",
       "    </tr>\n",
       "    <tr>\n",
       "      <th>11</th>\n",
       "      <td>TripleByte</td>\n",
       "      <td>10</td>\n",
       "    </tr>\n",
       "  </tbody>\n",
       "</table>\n",
       "</div>"
      ],
      "text/plain": [
       "         platform  count\n",
       "4        LinkedIn   7124\n",
       "2          Indeed    659\n",
       "5         Monster    650\n",
       "8            Xing    425\n",
       "1       Glassdoor    348\n",
       "9          Naukri    341\n",
       "10      Hired.com    198\n",
       "3   JobSite.co.uk     79\n",
       "0         CW_Jobs     76\n",
       "6      Reed.co.uk     72\n",
       "7      Total_Jobs     47\n",
       "12     Workopolis     27\n",
       "11     TripleByte     10"
      ]
     },
     "execution_count": 201,
     "metadata": {},
     "output_type": "execute_result"
    }
   ],
   "source": [
    "#having a look at new dataframe\n",
    "platform_df = total_count(platform, 'platform', 'count', possible_vals)\n",
    "platform_df"
   ]
  },
  {
   "cell_type": "code",
   "execution_count": 202,
   "metadata": {},
   "outputs": [
    {
     "data": {
      "text/html": [
       "<div>\n",
       "<style scoped>\n",
       "    .dataframe tbody tr th:only-of-type {\n",
       "        vertical-align: middle;\n",
       "    }\n",
       "\n",
       "    .dataframe tbody tr th {\n",
       "        vertical-align: top;\n",
       "    }\n",
       "\n",
       "    .dataframe thead th {\n",
       "        text-align: right;\n",
       "    }\n",
       "</style>\n",
       "<table border=\"1\" class=\"dataframe\">\n",
       "  <thead>\n",
       "    <tr style=\"text-align: right;\">\n",
       "      <th></th>\n",
       "      <th>platform</th>\n",
       "      <th>count</th>\n",
       "    </tr>\n",
       "  </thead>\n",
       "  <tbody>\n",
       "    <tr>\n",
       "      <th>4</th>\n",
       "      <td>LinkedIn</td>\n",
       "      <td>7124</td>\n",
       "    </tr>\n",
       "    <tr>\n",
       "      <th>2</th>\n",
       "      <td>Indeed</td>\n",
       "      <td>659</td>\n",
       "    </tr>\n",
       "    <tr>\n",
       "      <th>5</th>\n",
       "      <td>Monster</td>\n",
       "      <td>650</td>\n",
       "    </tr>\n",
       "    <tr>\n",
       "      <th>8</th>\n",
       "      <td>Xing</td>\n",
       "      <td>425</td>\n",
       "    </tr>\n",
       "    <tr>\n",
       "      <th>1</th>\n",
       "      <td>Glassdoor</td>\n",
       "      <td>348</td>\n",
       "    </tr>\n",
       "  </tbody>\n",
       "</table>\n",
       "</div>"
      ],
      "text/plain": [
       "    platform  count\n",
       "4   LinkedIn   7124\n",
       "2     Indeed    659\n",
       "5    Monster    650\n",
       "8       Xing    425\n",
       "1  Glassdoor    348"
      ]
     },
     "execution_count": 202,
     "metadata": {},
     "output_type": "execute_result"
    }
   ],
   "source": [
    "#using only top 5\n",
    "top_5 = platform_df.head(5)\n",
    "top_5"
   ]
  },
  {
   "cell_type": "code",
   "execution_count": 203,
   "metadata": {},
   "outputs": [
    {
     "data": {
      "image/png": "[encoded data removed]",
      "text/plain": [
       "<Figure size 720x360 with 1 Axes>"
      ]
     },
     "metadata": {
      "needs_background": "light"
     },
     "output_type": "display_data"
    }
   ],
   "source": [
    "#bar chart with top 5 job platforms\n",
    "plt.figure(figsize=(10,5))\n",
    "plt.bar(top_5['platform'], top_5['count'],color=(0.2, 0.4, 0.6, 0.6))\n",
    "plt.title(\"Most important important platforms for software developer\")\n",
    "plt.xlabel('platform');\n",
    "plt.ylabel('count');"
   ]
  },
  {
   "cell_type": "markdown",
   "metadata": {},
   "source": [
    "To get a job as a developer, it is best to maintain a profile at LinkedIn."
   ]
  },
  {
   "cell_type": "markdown",
   "metadata": {},
   "source": [
    "### Question 3: How do you even know that a company is hiring?"
   ]
  },
  {
   "cell_type": "code",
   "execution_count": 204,
   "metadata": {},
   "outputs": [
    {
     "data": {
      "text/plain": [
       "2247"
      ]
     },
     "execution_count": 204,
     "metadata": {},
     "output_type": "execute_result"
    }
   ],
   "source": [
    "#checking number of NAs\n",
    "np.sum(df.LearnedHiring.isnull())"
   ]
  },
  {
   "cell_type": "code",
   "execution_count": 205,
   "metadata": {},
   "outputs": [],
   "source": [
    "#Creating two dataframes to inspect NAs more closely\n",
    "df_nolearned = df[df['LearnedHiring'].isnull()==True]\n",
    "df_learned = df[df['LearnedHiring'].isnull()==False]"
   ]
  },
  {
   "cell_type": "code",
   "execution_count": 206,
   "metadata": {},
   "outputs": [
    {
     "data": {
      "text/plain": [
       "Male                                                       0.916189\n",
       "Female                                                     0.057262\n",
       "Other                                                      0.006247\n",
       "Male; Other                                                0.005726\n",
       "Female; Transgender                                        0.005206\n",
       "Gender non-conforming                                      0.004164\n",
       "Male; Gender non-conforming                                0.001562\n",
       "Female; Gender non-conforming                              0.001041\n",
       "Male; Female; Transgender; Gender non-conforming; Other    0.000521\n",
       "Transgender                                                0.000521\n",
       "Transgender; Gender non-conforming                         0.000521\n",
       "Male; Female; Gender non-conforming                        0.000521\n",
       "Male; Female; Transgender                                  0.000521\n",
       "Name: Gender, dtype: float64"
      ]
     },
     "execution_count": 206,
     "metadata": {},
     "output_type": "execute_result"
    }
   ],
   "source": [
    "#checking differences in gender\n",
    "df_nolearned['Gender'].value_counts()/(df_nolearned.shape[0] - sum(df_nolearned['Gender'].isnull()))"
   ]
  },
  {
   "cell_type": "code",
   "execution_count": 207,
   "metadata": {},
   "outputs": [
    {
     "data": {
      "text/plain": [
       "Male                                                       0.901305\n",
       "Female                                                     0.079678\n",
       "Other                                                      0.004720\n",
       "Gender non-conforming                                      0.003887\n",
       "Male; Other                                                0.002360\n",
       "Female; Transgender                                        0.001666\n",
       "Transgender                                                0.001666\n",
       "Male; Gender non-conforming                                0.001388\n",
       "Female; Gender non-conforming                              0.000972\n",
       "Male; Female; Transgender; Gender non-conforming; Other    0.000416\n",
       "Transgender; Gender non-conforming                         0.000416\n",
       "Male; Female                                               0.000416\n",
       "Male; Transgender                                          0.000278\n",
       "Male; Female; Transgender; Gender non-conforming           0.000278\n",
       "Female; Transgender; Gender non-conforming                 0.000278\n",
       "Male; Female; Other                                        0.000139\n",
       "Male; Female; Transgender                                  0.000139\n",
       "Name: Gender, dtype: float64"
      ]
     },
     "execution_count": 207,
     "metadata": {},
     "output_type": "execute_result"
    }
   ],
   "source": [
    "df_learned['Gender'].value_counts()/(df_learned.shape[0] - sum(df_learned['Gender'].isnull()))"
   ]
  },
  {
   "cell_type": "markdown",
   "metadata": {},
   "source": [
    "Looks like the percentage of male respondents that didn't answer the hiring question is a little bit higher, than the ones that answered the question. But for me it would be still ok to drop it."
   ]
  },
  {
   "cell_type": "code",
   "execution_count": 208,
   "metadata": {},
   "outputs": [
    {
     "data": {
      "text/plain": [
       "Professional developer                                  0.446373\n",
       "Student                                                 0.372052\n",
       "None of these                                           0.075211\n",
       "Professional non-developer who sometimes writes code    0.072096\n",
       "Used to be a professional developer                     0.034268\n",
       "Name: Professional, dtype: float64"
      ]
     },
     "execution_count": 208,
     "metadata": {},
     "output_type": "execute_result"
    }
   ],
   "source": [
    "#checking differences in profession\n",
    "df_nolearned['Professional'].value_counts()/(df_nolearned.shape[0] - sum(df_nolearned['Professional'].isnull()))"
   ]
  },
  {
   "cell_type": "code",
   "execution_count": 209,
   "metadata": {},
   "outputs": [
    {
     "data": {
      "text/plain": [
       "Professional developer                                  0.845974\n",
       "Professional non-developer who sometimes writes code    0.096405\n",
       "Student                                                 0.042231\n",
       "Used to be a professional developer                     0.015390\n",
       "Name: Professional, dtype: float64"
      ]
     },
     "execution_count": 209,
     "metadata": {},
     "output_type": "execute_result"
    }
   ],
   "source": [
    "df_learned['Professional'].value_counts()/(df_learned.shape[0] - sum(df_learned['Professional'].isnull()))"
   ]
  },
  {
   "cell_type": "markdown",
   "metadata": {},
   "source": [
    "Among the respondents that didn't answer the hiring question, the percentage of students is a lot higher, than the group that answered the question. That makes also sense, as student might choose to not answer the question, due to a lack of working experience. Therefore I choose to drop the NAs."
   ]
  },
  {
   "cell_type": "code",
   "execution_count": 210,
   "metadata": {},
   "outputs": [],
   "source": [
    "#droping NAs\n",
    "df2 = df.dropna(subset=['LearnedHiring'],axis=0)"
   ]
  },
  {
   "cell_type": "code",
   "execution_count": 211,
   "metadata": {},
   "outputs": [
    {
     "data": {
      "text/plain": [
       "A friend, family member, or former colleague told me                            2240\n",
       "I was contacted directly by someone at the company (e.g. internal recruiter)    1481\n",
       "A general-purpose job board                                                     1096\n",
       "An external recruiter or headhunter                                             1032\n",
       "Some other way                                                                   651\n",
       "I visited the company's Web site and found a job listing there                   649\n",
       "A career fair or on-campus recruiting event                                      616\n",
       "A tech-specific job board                                                        357\n",
       "Name: LearnedHiring, dtype: int64"
      ]
     },
     "execution_count": 211,
     "metadata": {},
     "output_type": "execute_result"
    }
   ],
   "source": [
    "#checking value counts of possible answers\n",
    "df2.LearnedHiring.value_counts()"
   ]
  },
  {
   "cell_type": "code",
   "execution_count": 212,
   "metadata": {},
   "outputs": [],
   "source": [
    "#replacing answers with shorter statements\n",
    "df2.replace({'LearnedHiring': {'A friend, family member, or former colleague told me': 'Friend/Family/Colleague', 'I was contacted directly by someone at the company (e.g. internal recruiter)': 'Internal recruiter',\n",
    "                              'A general-purpose job board':'Genereal-purpose job board','An external recruiter or headhunter':'External recruiter',\n",
    "                              'Some other way':'Other',\"I visited the company's Web site and found a job listing there\":\"Company's website\",'A career fair or on-campus recruiting event':'Career fair','A tech-specific job board':'Tech-specific job board'}},inplace=True)"
   ]
  },
  {
   "cell_type": "code",
   "execution_count": 213,
   "metadata": {},
   "outputs": [
    {
     "data": {
      "text/plain": [
       "Friend/Family/Colleague       2240\n",
       "Internal recruiter            1481\n",
       "Genereal-purpose job board    1096\n",
       "External recruiter            1032\n",
       "Other                          651\n",
       "Company's website              649\n",
       "Career fair                    616\n",
       "Tech-specific job board        357\n",
       "Name: LearnedHiring, dtype: int64"
      ]
     },
     "execution_count": 213,
     "metadata": {},
     "output_type": "execute_result"
    }
   ],
   "source": [
    "#checking value counts again\n",
    "df2.LearnedHiring.value_counts()"
   ]
  },
  {
   "cell_type": "code",
   "execution_count": 214,
   "metadata": {},
   "outputs": [
    {
     "data": {
      "image/png": "[encoded data removed]",
      "text/plain": [
       "<Figure size 720x360 with 1 Axes>"
      ]
     },
     "metadata": {
      "needs_background": "light"
     },
     "output_type": "display_data"
    }
   ],
   "source": [
    "#plotting most important aspects\n",
    "plt.figure(figsize=(10,5))\n",
    "df2.LearnedHiring.value_counts().plot(kind='bar',color=(0.2, 0.4, 0.6, 0.6))\n",
    "plt.title(\"How did you know, a company is hiring?\")\n",
    "plt.xlabel('Aspect')\n",
    "plt.ylabel('Count');"
   ]
  },
  {
   "cell_type": "markdown",
   "metadata": {},
   "source": [
    "Most people get the information if a company is hiring from friends & colleagues or an internal recruiter."
   ]
  },
  {
   "cell_type": "code",
   "execution_count": null,
   "metadata": {},
   "outputs": [],
   "source": []
  }
 ],
 "metadata": {
  "kernelspec": {
   "display_name": "Python 3",
   "language": "python",
   "name": "python3"
  },
  "language_info": {
   "codemirror_mode": {
    "name": "ipython",
    "version": 3
   },
   "file_extension": ".py",
   "mimetype": "text/x-python",
   "name": "python",
   "nbconvert_exporter": "python",
   "pygments_lexer": "ipython3",
   "version": "3.7.3"
  }
 },
 "nbformat": 4,
 "nbformat_minor": 2
}
